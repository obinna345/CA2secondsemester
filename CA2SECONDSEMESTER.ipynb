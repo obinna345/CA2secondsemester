{
 "cells": [
  {
   "cell_type": "code",
   "execution_count": 1,
   "id": "a672e4c5",
   "metadata": {},
   "outputs": [
    {
     "data": {
      "text/html": [
       "\n",
       "        <div>\n",
       "            <p><b>SparkContext</b></p>\n",
       "\n",
       "            <p><a href=\"http://pc-71-146.customer.ask4.lan:4040\">Spark UI</a></p>\n",
       "\n",
       "            <dl>\n",
       "              <dt>Version</dt>\n",
       "                <dd><code>v3.4.0</code></dd>\n",
       "              <dt>Master</dt>\n",
       "                <dd><code>local[*]</code></dd>\n",
       "              <dt>AppName</dt>\n",
       "                <dd><code>PySparkShell</code></dd>\n",
       "            </dl>\n",
       "        </div>\n",
       "        "
      ],
      "text/plain": [
       "<SparkContext master=local[*] appName=PySparkShell>"
      ]
     },
     "execution_count": 1,
     "metadata": {},
     "output_type": "execute_result"
    }
   ],
   "source": [
    "sc\n"
   ]
  },
  {
   "cell_type": "code",
   "execution_count": 2,
   "id": "ef130523",
   "metadata": {},
   "outputs": [
    {
     "data": {
      "text/plain": [
       "'local[*]'"
      ]
     },
     "execution_count": 2,
     "metadata": {},
     "output_type": "execute_result"
    }
   ],
   "source": [
    "sc.master"
   ]
  },
  {
   "cell_type": "code",
   "execution_count": 3,
   "id": "71ec904a",
   "metadata": {},
   "outputs": [],
   "source": [
    "import re\n",
    "from operator import add"
   ]
  },
  {
   "cell_type": "code",
   "execution_count": 4,
   "id": "8e0dcf14",
   "metadata": {},
   "outputs": [
    {
     "name": "stderr",
     "output_type": "stream",
     "text": [
      "23/05/24 22:24:26 WARN SparkSession: Using an existing Spark session; only runtime SQL configurations will take effect.\n"
     ]
    },
    {
     "name": "stdout",
     "output_type": "stream",
     "text": [
      "+--------------------+--------------------+--------------------+--------------------+--------------------+----------+------------+---------+----------+--------------------+--------------------+--------------+-----------+--------------+\n",
      "|            tweetUrl|                date|     renderedContent|             tweetId|              userId|replyCount|retweetCount|likeCount|quoteCount|              source|               media|retweetedTweet|quotedTweet|mentionedUsers|\n",
      "+--------------------+--------------------+--------------------+--------------------+--------------------+----------+------------+---------+----------+--------------------+--------------------+--------------+-----------+--------------+\n",
      "|https://twitter.c...|2021-03-30 03:33:...|Support 👇\\n\\n#Fa...|1.376739399593910...|1.015969769760096...|         0|           0|        0|         0|\"<a href=\"\"http:/...|                null|          null|       null|          null|\n",
      "|https://twitter.c...|2021-03-30 03:33:...|Supporting farmer...|1.376739306287427...|1.332937272581263...|         0|           0|        0|         0|\"<a href=\"\"http:/...|[{'previewUrl': '...|          null|       null|          null|\n",
      "|https://twitter.c...|2021-03-30 03:31:...|Support farmers i...|1.376738704128020...|1.332937272581263...|         0|           0|        0|         0|\"<a href=\"\"http:/...|[{'previewUrl': '...|          null|       null|          null|\n",
      "|https://twitter.c...|2021-03-30 03:30:...|#StopHateAgainstF...|1.376738640542400...|1.308356658582618...|         0|           1|        3|         0|\"<a href=\"\"http:/...|                null|          null|       null|          null|\n",
      "|https://twitter.c...|2021-03-30 03:30:...|You hate farmers ...|1.376738579171344...|1.35731175653265e+18|         0|           0|        1|         0|\"<a href=\"\"http:/...|                null|          null|       null|          null|\n",
      "+--------------------+--------------------+--------------------+--------------------+--------------------+----------+------------+---------+----------+--------------------+--------------------+--------------+-----------+--------------+\n",
      "only showing top 5 rows\n",
      "\n"
     ]
    }
   ],
   "source": [
    "#loading the data from hadoop to pyspark and using the multiline option so the columns don't interchange\n",
    "from pyspark.sql import SparkSession\n",
    "\n",
    "# Create a SparkSession\n",
    "spark = SparkSession.builder.appName(\"Import CSV\").getOrCreate()\n",
    "\n",
    "# Read the CSV file\n",
    "df = spark.read.format(\"csv\").option(\"header\", \"true\").option(\"multiline\", \"true\").load(\"/farmers/tweets.csv\")\n",
    "\n",
    "# Print the first 5 rows of the data frame\n",
    "df.show(5)\n"
   ]
  },
  {
   "cell_type": "code",
   "execution_count": 5,
   "id": "b6ac93ed",
   "metadata": {},
   "outputs": [
    {
     "name": "stdout",
     "output_type": "stream",
     "text": [
      "+--------------------+--------------------+\n",
      "|                date|     renderedContent|\n",
      "+--------------------+--------------------+\n",
      "|2021-03-30 03:33:...|Support 👇\\n\\n#Fa...|\n",
      "|2021-03-30 03:33:...|Supporting farmer...|\n",
      "|2021-03-30 03:31:...|Support farmers i...|\n",
      "|2021-03-30 03:30:...|#StopHateAgainstF...|\n",
      "|2021-03-30 03:30:...|You hate farmers ...|\n",
      "|2021-03-30 03:29:...|They can't be far...|\n",
      "|2021-03-30 03:28:...|Lets not forget t...|\n",
      "|2021-03-30 03:28:...|@Troll48611422 @D...|\n",
      "|2021-03-30 03:28:...|Neutrality helps ...|\n",
      "|2021-03-30 03:28:...|Why You Should Vi...|\n",
      "|2021-03-30 03:27:...|Stop asking God t...|\n",
      "|2021-03-30 03:27:...|Great read to gai...|\n",
      "|2021-03-30 03:27:...|#होली_के_रंग_किसा...|\n",
      "|2021-03-30 03:27:...|@iaminnocentkid Y...|\n",
      "|2021-03-30 03:27:...|Start Love With F...|\n",
      "|2021-03-30 03:26:...|Love the picture ...|\n",
      "|2021-03-30 03:26:...|So much suffering...|\n",
      "|2021-03-30 03:26:...|The true definati...|\n",
      "|2021-03-30 03:26:...|@dil_di_awaz Dont...|\n",
      "|2021-03-30 03:25:...|Instead of listen...|\n",
      "+--------------------+--------------------+\n",
      "only showing top 20 rows\n",
      "\n"
     ]
    }
   ],
   "source": [
    "# Select the columns of interest\n",
    "selected_cols = [ 'date','renderedContent']\n",
    "df_selected = df.select(selected_cols)\n",
    "\n",
    "# Print the first 5 rows of the selected data frame\n",
    "df_selected.show(20)"
   ]
  },
  {
   "cell_type": "code",
   "execution_count": 6,
   "id": "974c6e22",
   "metadata": {},
   "outputs": [
    {
     "name": "stderr",
     "output_type": "stream",
     "text": [
      "                                                                                \r"
     ]
    },
    {
     "data": {
      "text/html": [
       "<div>\n",
       "<style scoped>\n",
       "    .dataframe tbody tr th:only-of-type {\n",
       "        vertical-align: middle;\n",
       "    }\n",
       "\n",
       "    .dataframe tbody tr th {\n",
       "        vertical-align: top;\n",
       "    }\n",
       "\n",
       "    .dataframe thead th {\n",
       "        text-align: right;\n",
       "    }\n",
       "</style>\n",
       "<table border=\"1\" class=\"dataframe\">\n",
       "  <thead>\n",
       "    <tr style=\"text-align: right;\">\n",
       "      <th></th>\n",
       "      <th>date</th>\n",
       "      <th>renderedContent</th>\n",
       "    </tr>\n",
       "  </thead>\n",
       "  <tbody>\n",
       "    <tr>\n",
       "      <th>0</th>\n",
       "      <td>2021-03-30 03:33:46+00:00</td>\n",
       "      <td>Support 👇\\n\\n#FarmersProtest</td>\n",
       "    </tr>\n",
       "    <tr>\n",
       "      <th>1</th>\n",
       "      <td>2021-03-30 03:33:23+00:00</td>\n",
       "      <td>Supporting farmers means supporting our countr...</td>\n",
       "    </tr>\n",
       "    <tr>\n",
       "      <th>2</th>\n",
       "      <td>2021-03-30 03:31:00+00:00</td>\n",
       "      <td>Support farmers if you are related to food #St...</td>\n",
       "    </tr>\n",
       "    <tr>\n",
       "      <th>3</th>\n",
       "      <td>2021-03-30 03:30:45+00:00</td>\n",
       "      <td>#StopHateAgainstFarmers support #FarmersProtes...</td>\n",
       "    </tr>\n",
       "    <tr>\n",
       "      <th>4</th>\n",
       "      <td>2021-03-30 03:30:30+00:00</td>\n",
       "      <td>You hate farmers I hate you, \\nif you love the...</td>\n",
       "    </tr>\n",
       "  </tbody>\n",
       "</table>\n",
       "</div>"
      ],
      "text/plain": [
       "                        date   \n",
       "0  2021-03-30 03:33:46+00:00  \\\n",
       "1  2021-03-30 03:33:23+00:00   \n",
       "2  2021-03-30 03:31:00+00:00   \n",
       "3  2021-03-30 03:30:45+00:00   \n",
       "4  2021-03-30 03:30:30+00:00   \n",
       "\n",
       "                                     renderedContent  \n",
       "0                       Support 👇\\n\\n#FarmersProtest  \n",
       "1  Supporting farmers means supporting our countr...  \n",
       "2  Support farmers if you are related to food #St...  \n",
       "3  #StopHateAgainstFarmers support #FarmersProtes...  \n",
       "4  You hate farmers I hate you, \\nif you love the...  "
      ]
     },
     "execution_count": 6,
     "metadata": {},
     "output_type": "execute_result"
    }
   ],
   "source": [
    "import pandas as pd\n",
    "\n",
    "# Select the columns of interest\n",
    "selected_cols = ['date', 'renderedContent']\n",
    "df_selected = df.select(selected_cols)\n",
    "\n",
    "# Filter out rows with null or None values in 'renderedContent' column\n",
    "df_filtered = df_selected.filter(df_selected.renderedContent.isNotNull())\n",
    "\n",
    "# Convert Spark DataFrame to Pandas DataFrame\n",
    "farmers_df = df_filtered.toPandas()\n",
    "\n",
    "# Print the first 20 rows of the Pandas DataFrame\n",
    "farmers_df.head(5)\n"
   ]
  },
  {
   "cell_type": "code",
   "execution_count": 7,
   "id": "a75cde56",
   "metadata": {},
   "outputs": [
    {
     "name": "stderr",
     "output_type": "stream",
     "text": [
      "                                                                                \r"
     ]
    },
    {
     "data": {
      "text/html": [
       "<div>\n",
       "<style scoped>\n",
       "    .dataframe tbody tr th:only-of-type {\n",
       "        vertical-align: middle;\n",
       "    }\n",
       "\n",
       "    .dataframe tbody tr th {\n",
       "        vertical-align: top;\n",
       "    }\n",
       "\n",
       "    .dataframe thead th {\n",
       "        text-align: right;\n",
       "    }\n",
       "</style>\n",
       "<table border=\"1\" class=\"dataframe\">\n",
       "  <thead>\n",
       "    <tr style=\"text-align: right;\">\n",
       "      <th></th>\n",
       "      <th>date</th>\n",
       "      <th>renderedContent</th>\n",
       "      <th>year</th>\n",
       "      <th>month</th>\n",
       "    </tr>\n",
       "  </thead>\n",
       "  <tbody>\n",
       "    <tr>\n",
       "      <th>632093</th>\n",
       "      <td>2020-11-30 23:57:57+00:00</td>\n",
       "      <td>Our mother are our pride. If you are for sale ...</td>\n",
       "      <td>2020</td>\n",
       "      <td>11</td>\n",
       "    </tr>\n",
       "    <tr>\n",
       "      <th>632094</th>\n",
       "      <td>2020-11-30 23:56:47+00:00</td>\n",
       "      <td>Thank you @TimUppal We are very thankful to yo...</td>\n",
       "      <td>2020</td>\n",
       "      <td>11</td>\n",
       "    </tr>\n",
       "    <tr>\n",
       "      <th>632095</th>\n",
       "      <td>2020-11-30 23:55:24+00:00</td>\n",
       "      <td>Tag/tweet those who you feel will get our voic...</td>\n",
       "      <td>2020</td>\n",
       "      <td>11</td>\n",
       "    </tr>\n",
       "    <tr>\n",
       "      <th>632096</th>\n",
       "      <td>2020-11-30 23:55:19+00:00</td>\n",
       "      <td>With ur warmest wishesWe need ur tweets s well...</td>\n",
       "      <td>2020</td>\n",
       "      <td>11</td>\n",
       "    </tr>\n",
       "    <tr>\n",
       "      <th>632097</th>\n",
       "      <td>2020-11-30 23:55:00+00:00</td>\n",
       "      <td>Thank you @jazzyb @iamdeepsidhu @BawaRanjit br...</td>\n",
       "      <td>2020</td>\n",
       "      <td>11</td>\n",
       "    </tr>\n",
       "  </tbody>\n",
       "</table>\n",
       "</div>"
      ],
      "text/plain": [
       "                            date   \n",
       "632093 2020-11-30 23:57:57+00:00  \\\n",
       "632094 2020-11-30 23:56:47+00:00   \n",
       "632095 2020-11-30 23:55:24+00:00   \n",
       "632096 2020-11-30 23:55:19+00:00   \n",
       "632097 2020-11-30 23:55:00+00:00   \n",
       "\n",
       "                                          renderedContent  year  month  \n",
       "632093  Our mother are our pride. If you are for sale ...  2020     11  \n",
       "632094  Thank you @TimUppal We are very thankful to yo...  2020     11  \n",
       "632095  Tag/tweet those who you feel will get our voic...  2020     11  \n",
       "632096  With ur warmest wishesWe need ur tweets s well...  2020     11  \n",
       "632097  Thank you @jazzyb @iamdeepsidhu @BawaRanjit br...  2020     11  "
      ]
     },
     "execution_count": 7,
     "metadata": {},
     "output_type": "execute_result"
    }
   ],
   "source": [
    "#arrange the data and sort them by year and month\n",
    "\n",
    "# Select the columns of interest\n",
    "selected_cols = ['date', 'renderedContent']\n",
    "df_selected = df.select(selected_cols)\n",
    "\n",
    "# Filter out rows with null or None values in 'renderedContent' column\n",
    "df_filtered = df_selected.filter(df_selected.renderedContent.isNotNull())\n",
    "\n",
    "# Convert Spark DataFrame to Pandas DataFrame\n",
    "farmers_df = df_filtered.toPandas()\n",
    "\n",
    "# Convert 'date' column to datetime type with error handling\n",
    "farmers_df['date'] = pd.to_datetime(farmers_df['date'], errors='coerce')\n",
    "\n",
    "# Drop rows with null or invalid dates\n",
    "farmers_df = farmers_df.dropna(subset=['date'])\n",
    "\n",
    "# Create 'year' and 'month' columns\n",
    "farmers_df['year'] = farmers_df['date'].dt.year\n",
    "farmers_df['month'] = farmers_df['date'].dt.month\n",
    "\n",
    "# Sort the DataFrame by 'year' and 'month'\n",
    "farmers_df = farmers_df.sort_values(['year', 'month'])\n",
    "\n",
    "# Print the first rows of the updated Pandas DataFrame\n",
    "farmers_df.head(5)\n"
   ]
  },
  {
   "cell_type": "code",
   "execution_count": 8,
   "id": "5aacb7c0",
   "metadata": {},
   "outputs": [],
   "source": [
    "#Removing the timestamp from the data\n",
    "farmers_df['date'] = farmers_df['date'].dt.date\n"
   ]
  },
  {
   "cell_type": "code",
   "execution_count": 9,
   "id": "88a9a075",
   "metadata": {},
   "outputs": [
    {
     "name": "stderr",
     "output_type": "stream",
     "text": [
      "                                                                                \r"
     ]
    },
    {
     "data": {
      "text/html": [
       "<div>\n",
       "<style scoped>\n",
       "    .dataframe tbody tr th:only-of-type {\n",
       "        vertical-align: middle;\n",
       "    }\n",
       "\n",
       "    .dataframe tbody tr th {\n",
       "        vertical-align: top;\n",
       "    }\n",
       "\n",
       "    .dataframe thead th {\n",
       "        text-align: right;\n",
       "    }\n",
       "</style>\n",
       "<table border=\"1\" class=\"dataframe\">\n",
       "  <thead>\n",
       "    <tr style=\"text-align: right;\">\n",
       "      <th></th>\n",
       "      <th>date</th>\n",
       "      <th>renderedContent</th>\n",
       "      <th>year</th>\n",
       "      <th>month</th>\n",
       "    </tr>\n",
       "  </thead>\n",
       "  <tbody>\n",
       "    <tr>\n",
       "      <th>632093</th>\n",
       "      <td>2020-11-30</td>\n",
       "      <td>Our mother are our pride. If you are for sale ...</td>\n",
       "      <td>2020</td>\n",
       "      <td>11</td>\n",
       "    </tr>\n",
       "    <tr>\n",
       "      <th>632094</th>\n",
       "      <td>2020-11-30</td>\n",
       "      <td>Thank you @TimUppal We are very thankful to yo...</td>\n",
       "      <td>2020</td>\n",
       "      <td>11</td>\n",
       "    </tr>\n",
       "    <tr>\n",
       "      <th>632095</th>\n",
       "      <td>2020-11-30</td>\n",
       "      <td>Tag/tweet those who you feel will get our voic...</td>\n",
       "      <td>2020</td>\n",
       "      <td>11</td>\n",
       "    </tr>\n",
       "    <tr>\n",
       "      <th>632096</th>\n",
       "      <td>2020-11-30</td>\n",
       "      <td>With ur warmest wishesWe need ur tweets s well...</td>\n",
       "      <td>2020</td>\n",
       "      <td>11</td>\n",
       "    </tr>\n",
       "    <tr>\n",
       "      <th>632097</th>\n",
       "      <td>2020-11-30</td>\n",
       "      <td>Thank you @jazzyb @iamdeepsidhu @BawaRanjit br...</td>\n",
       "      <td>2020</td>\n",
       "      <td>11</td>\n",
       "    </tr>\n",
       "  </tbody>\n",
       "</table>\n",
       "</div>"
      ],
      "text/plain": [
       "             date                                    renderedContent  year   \n",
       "632093 2020-11-30  Our mother are our pride. If you are for sale ...  2020  \\\n",
       "632094 2020-11-30  Thank you @TimUppal We are very thankful to yo...  2020   \n",
       "632095 2020-11-30  Tag/tweet those who you feel will get our voic...  2020   \n",
       "632096 2020-11-30  With ur warmest wishesWe need ur tweets s well...  2020   \n",
       "632097 2020-11-30  Thank you @jazzyb @iamdeepsidhu @BawaRanjit br...  2020   \n",
       "\n",
       "        month  \n",
       "632093     11  \n",
       "632094     11  \n",
       "632095     11  \n",
       "632096     11  \n",
       "632097     11  "
      ]
     },
     "execution_count": 9,
     "metadata": {},
     "output_type": "execute_result"
    }
   ],
   "source": [
    "# Select the columns of interest\n",
    "selected_cols = ['date', 'renderedContent']\n",
    "df_selected = df.select(selected_cols)\n",
    "\n",
    "# Filter out rows with null or None values in 'renderedContent' column\n",
    "df_filtered = df_selected.filter(df_selected.renderedContent.isNotNull())\n",
    "\n",
    "# Convert Spark DataFrame to Pandas DataFrame\n",
    "farmers_df = df_filtered.toPandas()\n",
    "\n",
    "# Convert 'date' column to datetime type with error handling\n",
    "farmers_df['date'] = pd.to_datetime(farmers_df['date'], errors='coerce')\n",
    "\n",
    "# Drop rows with null or invalid dates\n",
    "farmers_df = farmers_df.dropna(subset=['date'])\n",
    "\n",
    "# Create 'year' and 'month' columns\n",
    "farmers_df['year'] = farmers_df['date'].dt.year\n",
    "farmers_df['month'] = farmers_df['date'].dt.month\n",
    "\n",
    "# Sort the DataFrame by 'year' and 'month'\n",
    "farmers_df = farmers_df.sort_values(['year', 'month'])\n",
    "\n",
    "# Remove the timestamp from the 'date' column\n",
    "farmers_df['date'] = farmers_df['date'].dt.date\n",
    "\n",
    "# Convert 'date' column to datetime type again\n",
    "farmers_df['date'] = pd.to_datetime(farmers_df['date'], errors='coerce')\n",
    "\n",
    "# Print the first 5 rows of the updated Pandas DataFrame\n",
    "farmers_df.head(5)\n"
   ]
  },
  {
   "cell_type": "markdown",
   "id": "d903ead6",
   "metadata": {},
   "source": [
    "###### Taking random samples of the data from each month and year because the file is too large"
   ]
  },
  {
   "cell_type": "code",
   "execution_count": 10,
   "id": "4ca1716c",
   "metadata": {
    "scrolled": true
   },
   "outputs": [
    {
     "name": "stderr",
     "output_type": "stream",
     "text": [
      "                                                                                \r"
     ]
    },
    {
     "data": {
      "text/html": [
       "<div>\n",
       "<style scoped>\n",
       "    .dataframe tbody tr th:only-of-type {\n",
       "        vertical-align: middle;\n",
       "    }\n",
       "\n",
       "    .dataframe tbody tr th {\n",
       "        vertical-align: top;\n",
       "    }\n",
       "\n",
       "    .dataframe thead th {\n",
       "        text-align: right;\n",
       "    }\n",
       "</style>\n",
       "<table border=\"1\" class=\"dataframe\">\n",
       "  <thead>\n",
       "    <tr style=\"text-align: right;\">\n",
       "      <th></th>\n",
       "      <th>date</th>\n",
       "      <th>renderedContent</th>\n",
       "      <th>year</th>\n",
       "      <th>month</th>\n",
       "    </tr>\n",
       "  </thead>\n",
       "  <tbody>\n",
       "    <tr>\n",
       "      <th>0</th>\n",
       "      <td>2020-11-27</td>\n",
       "      <td>2014: Bahut hua kisano par war Abki bar Modi s...</td>\n",
       "      <td>2020.0</td>\n",
       "      <td>11.0</td>\n",
       "    </tr>\n",
       "    <tr>\n",
       "      <th>1</th>\n",
       "      <td>2020-11-29</td>\n",
       "      <td>‘Modi media’ go back 🤣. \\n#FarmersProtest #Tak...</td>\n",
       "      <td>2020.0</td>\n",
       "      <td>11.0</td>\n",
       "    </tr>\n",
       "    <tr>\n",
       "      <th>2</th>\n",
       "      <td>2020-11-30</td>\n",
       "      <td>#supportfarmers \\n#FarmersProtest \\n#FarmerPro...</td>\n",
       "      <td>2020.0</td>\n",
       "      <td>11.0</td>\n",
       "    </tr>\n",
       "    <tr>\n",
       "      <th>3</th>\n",
       "      <td>2020-11-27</td>\n",
       "      <td>We have every rite to protest #FarmersProtest ...</td>\n",
       "      <td>2020.0</td>\n",
       "      <td>11.0</td>\n",
       "    </tr>\n",
       "    <tr>\n",
       "      <th>4</th>\n",
       "      <td>2020-11-30</td>\n",
       "      <td>Madam shera di kom a we dnt think about fame o...</td>\n",
       "      <td>2020.0</td>\n",
       "      <td>11.0</td>\n",
       "    </tr>\n",
       "  </tbody>\n",
       "</table>\n",
       "</div>"
      ],
      "text/plain": [
       "        date                                    renderedContent    year  month\n",
       "0 2020-11-27  2014: Bahut hua kisano par war Abki bar Modi s...  2020.0   11.0\n",
       "1 2020-11-29  ‘Modi media’ go back 🤣. \\n#FarmersProtest #Tak...  2020.0   11.0\n",
       "2 2020-11-30  #supportfarmers \\n#FarmersProtest \\n#FarmerPro...  2020.0   11.0\n",
       "3 2020-11-27  We have every rite to protest #FarmersProtest ...  2020.0   11.0\n",
       "4 2020-11-30  Madam shera di kom a we dnt think about fame o...  2020.0   11.0"
      ]
     },
     "execution_count": 10,
     "metadata": {},
     "output_type": "execute_result"
    }
   ],
   "source": [
    "import pandas as pd\n",
    "import numpy as np\n",
    "\n",
    "# Select the columns of interest\n",
    "selected_cols = ['date', 'renderedContent']\n",
    "df_selected = df.select(selected_cols)\n",
    "\n",
    "# Filter out rows with null or None values in 'renderedContent' column\n",
    "df_filtered = df_selected.filter(df_selected.renderedContent.isNotNull())\n",
    "\n",
    "# Convert Spark DataFrame to Pandas DataFrame\n",
    "farmers_df = df_filtered.toPandas()\n",
    "\n",
    "# Convert 'date' column to datetime type with error handling\n",
    "farmers_df['date'] = pd.to_datetime(farmers_df['date'], errors='coerce')\n",
    "\n",
    "# Create 'year' and 'month' columns\n",
    "farmers_df['year'] = farmers_df['date'].dt.year\n",
    "farmers_df['month'] = farmers_df['date'].dt.month\n",
    "\n",
    "# Initialize an empty DataFrame to store the sampled rows\n",
    "protest_df = pd.DataFrame()\n",
    "\n",
    "# Iterate over unique year and month combinations\n",
    "for (year, month), group in farmers_df.groupby(['year', 'month']):\n",
    "    # Randomly sample 5000 rows from the group\n",
    "    sampled_group = group.sample(n=min(500, len(group)), random_state=42)\n",
    "    # Append the sampled group to the overall sampled DataFrame\n",
    "    protest_df = pd.concat([protest_df, sampled_group])\n",
    "\n",
    "# Remove the timestamp from the 'date' column\n",
    "protest_df['date'] = protest_df['date'].dt.date\n",
    "\n",
    "# Convert 'date' column to datetime type\n",
    "protest_df['date'] = pd.to_datetime(protest_df['date'])\n",
    "\n",
    "# Reset the index of the sampled DataFrame\n",
    "protest_df = protest_df.reset_index(drop=True)\n",
    "\n",
    "# Print the first 5 rows of the sampled DataFrame\n",
    "protest_df.head(5)\n"
   ]
  },
  {
   "cell_type": "code",
   "execution_count": 11,
   "id": "6177ac91",
   "metadata": {},
   "outputs": [
    {
     "name": "stderr",
     "output_type": "stream",
     "text": [
      "[nltk_data] Downloading package stopwords to /home/hduser/nltk_data...\n",
      "[nltk_data]   Package stopwords is already up-to-date!\n",
      "2023-05-24 22:25:40.361878: I tensorflow/core/util/port.cc:110] oneDNN custom operations are on. You may see slightly different numerical results due to floating-point round-off errors from different computation orders. To turn them off, set the environment variable `TF_ENABLE_ONEDNN_OPTS=0`.\n",
      "2023-05-24 22:25:40.363623: I tensorflow/tsl/cuda/cudart_stub.cc:28] Could not find cuda drivers on your machine, GPU will not be used.\n",
      "2023-05-24 22:25:40.412851: I tensorflow/tsl/cuda/cudart_stub.cc:28] Could not find cuda drivers on your machine, GPU will not be used.\n",
      "2023-05-24 22:25:40.413105: I tensorflow/core/platform/cpu_feature_guard.cc:182] This TensorFlow binary is optimized to use available CPU instructions in performance-critical operations.\n",
      "To enable the following instructions: AVX2 AVX512F AVX512_VNNI FMA, in other operations, rebuild TensorFlow with the appropriate compiler flags.\n",
      "2023-05-24 22:25:40.857195: W tensorflow/compiler/tf2tensorrt/utils/py_utils.cc:38] TF-TRT Warning: Could not find TensorRT\n"
     ]
    }
   ],
   "source": [
    "import pandas as pd\n",
    "import numpy as np\n",
    "import seaborn as sns\n",
    "import re\n",
    "import string\n",
    "from string import punctuation\n",
    "import nltk\n",
    "from nltk.corpus import stopwords\n",
    "nltk.download('stopwords')\n",
    "\n",
    "\n",
    "import matplotlib.pyplot as plt\n",
    "from sklearn.model_selection import train_test_split\n",
    "from sklearn.feature_extraction.text import CountVectorizer\n",
    "from sklearn.feature_extraction.text import TfidfTransformer\n",
    "\n",
    "import tensorflow as tf\n",
    "from tensorflow.keras.models import Sequential\n",
    "from tensorflow.keras.layers import Dense, Activation, Dropout\n",
    "from tensorflow.keras.callbacks import EarlyStopping"
   ]
  },
  {
   "cell_type": "markdown",
   "id": "b4550832",
   "metadata": {},
   "source": [
    "## PREPROCESSING THE TEXT DATA"
   ]
  },
  {
   "cell_type": "code",
   "execution_count": 12,
   "id": "2fd69435",
   "metadata": {},
   "outputs": [
    {
     "data": {
      "text/html": [
       "<div>\n",
       "<style scoped>\n",
       "    .dataframe tbody tr th:only-of-type {\n",
       "        vertical-align: middle;\n",
       "    }\n",
       "\n",
       "    .dataframe tbody tr th {\n",
       "        vertical-align: top;\n",
       "    }\n",
       "\n",
       "    .dataframe thead th {\n",
       "        text-align: right;\n",
       "    }\n",
       "</style>\n",
       "<table border=\"1\" class=\"dataframe\">\n",
       "  <thead>\n",
       "    <tr style=\"text-align: right;\">\n",
       "      <th></th>\n",
       "      <th>renderedContent</th>\n",
       "      <th>stopwords</th>\n",
       "    </tr>\n",
       "  </thead>\n",
       "  <tbody>\n",
       "    <tr>\n",
       "      <th>0</th>\n",
       "      <td>2014: Bahut hua kisano par war Abki bar Modi s...</td>\n",
       "      <td>6</td>\n",
       "    </tr>\n",
       "    <tr>\n",
       "      <th>1</th>\n",
       "      <td>‘Modi media’ go back 🤣. \\n#FarmersProtest #Tak...</td>\n",
       "      <td>5</td>\n",
       "    </tr>\n",
       "    <tr>\n",
       "      <th>2</th>\n",
       "      <td>#supportfarmers \\n#FarmersProtest \\n#FarmerPro...</td>\n",
       "      <td>1</td>\n",
       "    </tr>\n",
       "    <tr>\n",
       "      <th>3</th>\n",
       "      <td>We have every rite to protest #FarmersProtest ...</td>\n",
       "      <td>4</td>\n",
       "    </tr>\n",
       "    <tr>\n",
       "      <th>4</th>\n",
       "      <td>Madam shera di kom a we dnt think about fame o...</td>\n",
       "      <td>15</td>\n",
       "    </tr>\n",
       "  </tbody>\n",
       "</table>\n",
       "</div>"
      ],
      "text/plain": [
       "                                     renderedContent  stopwords\n",
       "0  2014: Bahut hua kisano par war Abki bar Modi s...          6\n",
       "1  ‘Modi media’ go back 🤣. \\n#FarmersProtest #Tak...          5\n",
       "2  #supportfarmers \\n#FarmersProtest \\n#FarmerPro...          1\n",
       "3  We have every rite to protest #FarmersProtest ...          4\n",
       "4  Madam shera di kom a we dnt think about fame o...         15"
      ]
     },
     "execution_count": 12,
     "metadata": {},
     "output_type": "execute_result"
    }
   ],
   "source": [
    "#checking for stopwords\n",
    "from nltk.corpus import stopwords\n",
    "stop = stopwords.words('english')\n",
    "protest_df['stopwords'] = protest_df['renderedContent'].apply(lambda x: len([x for x in x.split() if x in stop]))\n",
    "protest_df[['renderedContent','stopwords']].head()\n"
   ]
  },
  {
   "cell_type": "code",
   "execution_count": 13,
   "id": "9bbc3525",
   "metadata": {},
   "outputs": [
    {
     "data": {
      "text/plain": [
       "0     2014: Bahut hua kisano par war Abki bar Modi s...\n",
       "1     ‘Modi media’ go back 🤣. #FarmersProtest #TakeB...\n",
       "2     #supportfarmers #FarmersProtest #FarmerProtest...\n",
       "3     We every rite protest #FarmersProtest democrac...\n",
       "4     Madam shera di kom dnt think fame defame fight...\n",
       "5     The farmers country tears eyes, Modi governmen...\n",
       "6     Partnered top technological companies industry...\n",
       "7     They tried stop farmers sand , boulders barbed...\n",
       "8     The determination Fascist government suppress ...\n",
       "9     #FarmersProtest #FarmersDilliChalo Its simply ...\n",
       "10    Due ongoing #FarmersProtest Singhu Tikri Borde...\n",
       "11    Go Canada go .... #Standwithfarmerschallenge #...\n",
       "12    We pay condolences family members Janak Raj be...\n",
       "13    BJP IT Cell This sanghis spreading fake news. ...\n",
       "14    Today I Potato Rice lunch Why I support Farmer...\n",
       "15    @GurpreetSSahota @ZeeNewsEnglish @anjanaomkash...\n",
       "16    @KamalaHarris Thnx support Farmers #FarmersPro...\n",
       "17    These leaders never understand pain farmers #F...\n",
       "18    Show @aajtak @ZeeNewsEnglish #godimedia #stand...\n",
       "19    Whenever mom &amp; son ( Antonio Maino &amp; P...\n",
       "Name: renderedContent, dtype: object"
      ]
     },
     "execution_count": 13,
     "metadata": {},
     "output_type": "execute_result"
    }
   ],
   "source": [
    "#remove stopwords\n",
    "from nltk.corpus import stopwords\n",
    "stop = stopwords.words('english')\n",
    "protest_df['renderedContent'] = protest_df['renderedContent'].apply(lambda x: \" \".join(x for x in x.split() if x not in stop))\n",
    "protest_df['renderedContent'].head(20)"
   ]
  },
  {
   "cell_type": "code",
   "execution_count": 14,
   "id": "e7c8632b",
   "metadata": {},
   "outputs": [
    {
     "data": {
      "text/html": [
       "<div>\n",
       "<style scoped>\n",
       "    .dataframe tbody tr th:only-of-type {\n",
       "        vertical-align: middle;\n",
       "    }\n",
       "\n",
       "    .dataframe tbody tr th {\n",
       "        vertical-align: top;\n",
       "    }\n",
       "\n",
       "    .dataframe thead th {\n",
       "        text-align: right;\n",
       "    }\n",
       "</style>\n",
       "<table border=\"1\" class=\"dataframe\">\n",
       "  <thead>\n",
       "    <tr style=\"text-align: right;\">\n",
       "      <th></th>\n",
       "      <th>renderedContent</th>\n",
       "      <th>hastags</th>\n",
       "    </tr>\n",
       "  </thead>\n",
       "  <tbody>\n",
       "    <tr>\n",
       "      <th>0</th>\n",
       "      <td>2014: Bahut hua kisano par war Abki bar Modi s...</td>\n",
       "      <td>2</td>\n",
       "    </tr>\n",
       "    <tr>\n",
       "      <th>1</th>\n",
       "      <td>‘Modi media’ go back 🤣. #FarmersProtest #TakeB...</td>\n",
       "      <td>2</td>\n",
       "    </tr>\n",
       "    <tr>\n",
       "      <th>2</th>\n",
       "      <td>#supportfarmers #FarmersProtest #FarmerProtest...</td>\n",
       "      <td>7</td>\n",
       "    </tr>\n",
       "    <tr>\n",
       "      <th>3</th>\n",
       "      <td>We every rite protest #FarmersProtest democrac...</td>\n",
       "      <td>1</td>\n",
       "    </tr>\n",
       "    <tr>\n",
       "      <th>4</th>\n",
       "      <td>Madam shera di kom dnt think fame defame fight...</td>\n",
       "      <td>1</td>\n",
       "    </tr>\n",
       "  </tbody>\n",
       "</table>\n",
       "</div>"
      ],
      "text/plain": [
       "                                     renderedContent  hastags\n",
       "0  2014: Bahut hua kisano par war Abki bar Modi s...        2\n",
       "1  ‘Modi media’ go back 🤣. #FarmersProtest #TakeB...        2\n",
       "2  #supportfarmers #FarmersProtest #FarmerProtest...        7\n",
       "3  We every rite protest #FarmersProtest democrac...        1\n",
       "4  Madam shera di kom dnt think fame defame fight...        1"
      ]
     },
     "execution_count": 14,
     "metadata": {},
     "output_type": "execute_result"
    }
   ],
   "source": [
    "#calculating number of special characters\n",
    "protest_df['hastags'] = protest_df['renderedContent'].apply(lambda x: len([x for x in x.split()\n",
    "if x.startswith('#')]))\n",
    "protest_df[['renderedContent','hastags']].head()"
   ]
  },
  {
   "cell_type": "code",
   "execution_count": 15,
   "id": "8f70bc1f",
   "metadata": {},
   "outputs": [],
   "source": [
    "#remove special characters\n",
    "import re\n",
    "\n",
    "# Define a function to remove special characters\n",
    "def remove_special_characters(text):\n",
    "    # Replace special characters with empty string\n",
    "    cleaned_text = re.sub(r'[^\\w\\s]', '', text)\n",
    "    return cleaned_text\n",
    "\n",
    "# Clean the 'renderedContent' column\n",
    "protest_df['renderedContent'] = protest_df['renderedContent'].apply(remove_special_characters)\n",
    "\n"
   ]
  },
  {
   "cell_type": "code",
   "execution_count": 16,
   "id": "7ec6b16b",
   "metadata": {},
   "outputs": [
    {
     "data": {
      "text/html": [
       "<div>\n",
       "<style scoped>\n",
       "    .dataframe tbody tr th:only-of-type {\n",
       "        vertical-align: middle;\n",
       "    }\n",
       "\n",
       "    .dataframe tbody tr th {\n",
       "        vertical-align: top;\n",
       "    }\n",
       "\n",
       "    .dataframe thead th {\n",
       "        text-align: right;\n",
       "    }\n",
       "</style>\n",
       "<table border=\"1\" class=\"dataframe\">\n",
       "  <thead>\n",
       "    <tr style=\"text-align: right;\">\n",
       "      <th></th>\n",
       "      <th>date</th>\n",
       "      <th>renderedContent</th>\n",
       "      <th>year</th>\n",
       "      <th>month</th>\n",
       "      <th>stopwords</th>\n",
       "      <th>hastags</th>\n",
       "    </tr>\n",
       "  </thead>\n",
       "  <tbody>\n",
       "    <tr>\n",
       "      <th>0</th>\n",
       "      <td>2020-11-27</td>\n",
       "      <td>2014 Bahut hua kisano par war Abki bar Modi sa...</td>\n",
       "      <td>2020.0</td>\n",
       "      <td>11.0</td>\n",
       "      <td>6</td>\n",
       "      <td>2</td>\n",
       "    </tr>\n",
       "    <tr>\n",
       "      <th>1</th>\n",
       "      <td>2020-11-29</td>\n",
       "      <td>Modi media go back  FarmersProtest TakeBackFar...</td>\n",
       "      <td>2020.0</td>\n",
       "      <td>11.0</td>\n",
       "      <td>5</td>\n",
       "      <td>2</td>\n",
       "    </tr>\n",
       "    <tr>\n",
       "      <th>2</th>\n",
       "      <td>2020-11-30</td>\n",
       "      <td>supportfarmers FarmersProtest FarmerProtests f...</td>\n",
       "      <td>2020.0</td>\n",
       "      <td>11.0</td>\n",
       "      <td>1</td>\n",
       "      <td>7</td>\n",
       "    </tr>\n",
       "    <tr>\n",
       "      <th>3</th>\n",
       "      <td>2020-11-27</td>\n",
       "      <td>We every rite protest FarmersProtest democracy...</td>\n",
       "      <td>2020.0</td>\n",
       "      <td>11.0</td>\n",
       "      <td>4</td>\n",
       "      <td>1</td>\n",
       "    </tr>\n",
       "    <tr>\n",
       "      <th>4</th>\n",
       "      <td>2020-11-30</td>\n",
       "      <td>Madam shera di kom dnt think fame defame fight...</td>\n",
       "      <td>2020.0</td>\n",
       "      <td>11.0</td>\n",
       "      <td>15</td>\n",
       "      <td>1</td>\n",
       "    </tr>\n",
       "  </tbody>\n",
       "</table>\n",
       "</div>"
      ],
      "text/plain": [
       "        date                                    renderedContent    year   \n",
       "0 2020-11-27  2014 Bahut hua kisano par war Abki bar Modi sa...  2020.0  \\\n",
       "1 2020-11-29  Modi media go back  FarmersProtest TakeBackFar...  2020.0   \n",
       "2 2020-11-30  supportfarmers FarmersProtest FarmerProtests f...  2020.0   \n",
       "3 2020-11-27  We every rite protest FarmersProtest democracy...  2020.0   \n",
       "4 2020-11-30  Madam shera di kom dnt think fame defame fight...  2020.0   \n",
       "\n",
       "   month  stopwords  hastags  \n",
       "0   11.0          6        2  \n",
       "1   11.0          5        2  \n",
       "2   11.0          1        7  \n",
       "3   11.0          4        1  \n",
       "4   11.0         15        1  "
      ]
     },
     "execution_count": 16,
     "metadata": {},
     "output_type": "execute_result"
    }
   ],
   "source": [
    "protest_df.head()"
   ]
  },
  {
   "cell_type": "code",
   "execution_count": 17,
   "id": "9224a899",
   "metadata": {},
   "outputs": [
    {
     "data": {
      "text/plain": [
       "0    2014 bahut hua kisano par war abki bar modi sa...\n",
       "1    modi media go back farmersprotest takebackfarm...\n",
       "2    supportfarmers farmersprotest farmerprotests f...\n",
       "3    we every rite protest farmersprotest democracy...\n",
       "4    madam shera di kom dnt think fame defame fight...\n",
       "Name: renderedContent, dtype: object"
      ]
     },
     "execution_count": 17,
     "metadata": {},
     "output_type": "execute_result"
    }
   ],
   "source": [
    "#transform tweets into lowercase to avoid multiple copies of the same words\n",
    "protest_df['renderedContent'] = protest_df['renderedContent'].apply(lambda x: \" \".join(x.lower() for x in x.split()))\n",
    "protest_df['renderedContent'].head()"
   ]
  },
  {
   "cell_type": "code",
   "execution_count": 18,
   "id": "fc8e35ab",
   "metadata": {},
   "outputs": [
    {
     "data": {
      "text/plain": [
       "0    2014 bahut hua kisano par war abki bar modi sa...\n",
       "1    modi media go back farmersprotest takebackfarm...\n",
       "2    supportfarmers farmersprotest farmerprotests f...\n",
       "3    we every rite protest farmersprotest democracy...\n",
       "4    madam shera di kom dnt think fame defame fight...\n",
       "Name: renderedContent, dtype: object"
      ]
     },
     "execution_count": 18,
     "metadata": {},
     "output_type": "execute_result"
    }
   ],
   "source": [
    "#removing puntuations\n",
    "protest_df['renderedContent'] = protest_df['renderedContent'].str.replace('[^\\w\\s]','')\n",
    "protest_df['renderedContent'].head()"
   ]
  },
  {
   "cell_type": "code",
   "execution_count": 19,
   "id": "41dcc2d1",
   "metadata": {},
   "outputs": [
    {
     "name": "stderr",
     "output_type": "stream",
     "text": [
      "[nltk_data] Downloading package punkt to /home/hduser/nltk_data...\n",
      "[nltk_data]   Package punkt is already up-to-date!\n"
     ]
    }
   ],
   "source": [
    "# Tokenize the data\n",
    "from textblob import TextBlob\n",
    "import nltk\n",
    "\n",
    "\n",
    "# Download the required NLTK data\n",
    "nltk.download('punkt')\n",
    "\n",
    "# Tokenize the text data\n",
    "protest_df['renderedContent'] = protest_df['renderedContent'].apply(lambda x: TextBlob(x).words)\n",
    "\n",
    "\n"
   ]
  },
  {
   "cell_type": "code",
   "execution_count": 20,
   "id": "4f715de4",
   "metadata": {},
   "outputs": [],
   "source": [
    "# perform stemming on the data\n",
    "from nltk.stem import PorterStemmer\n",
    "\n",
    "\n",
    "# Create a stemmer object\n",
    "stemmer = PorterStemmer()\n",
    "\n",
    "# Perform stemming on the tokenized text\n",
    "protest_df['renderedContent'] = protest_df['renderedContent'].apply(lambda tokens: [stemmer.stem(token) for token in tokens])\n",
    "\n"
   ]
  },
  {
   "cell_type": "code",
   "execution_count": 21,
   "id": "8dee0bf3",
   "metadata": {},
   "outputs": [
    {
     "name": "stderr",
     "output_type": "stream",
     "text": [
      "[nltk_data] Downloading package wordnet to /home/hduser/nltk_data...\n",
      "[nltk_data]   Package wordnet is already up-to-date!\n"
     ]
    },
    {
     "data": {
      "text/plain": [
       "True"
      ]
     },
     "execution_count": 21,
     "metadata": {},
     "output_type": "execute_result"
    }
   ],
   "source": [
    "import nltk\n",
    "\n",
    "nltk.download('wordnet')\n"
   ]
  },
  {
   "cell_type": "code",
   "execution_count": 22,
   "id": "3c0f07b3",
   "metadata": {},
   "outputs": [],
   "source": [
    "\n",
    "from nltk.stem import WordNetLemmatizer\n",
    "\n",
    "# Create a lemmatizer object\n",
    "lemmatizer = WordNetLemmatizer()\n",
    "\n",
    "# Perform lemmatization on the tokenized text\n",
    "protest_df['renderedContent'] = protest_df['renderedContent'].apply(lambda tokens: [lemmatizer.lemmatize(token) for token in tokens])\n",
    "\n"
   ]
  },
  {
   "cell_type": "code",
   "execution_count": 23,
   "id": "cb09ff86",
   "metadata": {},
   "outputs": [
    {
     "data": {
      "text/html": [
       "<div>\n",
       "<style scoped>\n",
       "    .dataframe tbody tr th:only-of-type {\n",
       "        vertical-align: middle;\n",
       "    }\n",
       "\n",
       "    .dataframe tbody tr th {\n",
       "        vertical-align: top;\n",
       "    }\n",
       "\n",
       "    .dataframe thead th {\n",
       "        text-align: right;\n",
       "    }\n",
       "</style>\n",
       "<table border=\"1\" class=\"dataframe\">\n",
       "  <thead>\n",
       "    <tr style=\"text-align: right;\">\n",
       "      <th></th>\n",
       "      <th>date</th>\n",
       "      <th>renderedContent</th>\n",
       "      <th>year</th>\n",
       "      <th>month</th>\n",
       "      <th>stopwords</th>\n",
       "      <th>hastags</th>\n",
       "    </tr>\n",
       "  </thead>\n",
       "  <tbody>\n",
       "    <tr>\n",
       "      <th>0</th>\n",
       "      <td>2020-11-27</td>\n",
       "      <td>[2014, bahut, hua, kisano, par, war, abki, bar...</td>\n",
       "      <td>2020.0</td>\n",
       "      <td>11.0</td>\n",
       "      <td>6</td>\n",
       "      <td>2</td>\n",
       "    </tr>\n",
       "    <tr>\n",
       "      <th>1</th>\n",
       "      <td>2020-11-29</td>\n",
       "      <td>[modi, medium, go, back, farmersprotest, takeb...</td>\n",
       "      <td>2020.0</td>\n",
       "      <td>11.0</td>\n",
       "      <td>5</td>\n",
       "      <td>2</td>\n",
       "    </tr>\n",
       "    <tr>\n",
       "      <th>2</th>\n",
       "      <td>2020-11-30</td>\n",
       "      <td>[supportfarm, farmersprotest, farmerprotest, f...</td>\n",
       "      <td>2020.0</td>\n",
       "      <td>11.0</td>\n",
       "      <td>1</td>\n",
       "      <td>7</td>\n",
       "    </tr>\n",
       "    <tr>\n",
       "      <th>3</th>\n",
       "      <td>2020-11-27</td>\n",
       "      <td>[we, everi, rite, protest, farmersprotest, dem...</td>\n",
       "      <td>2020.0</td>\n",
       "      <td>11.0</td>\n",
       "      <td>4</td>\n",
       "      <td>1</td>\n",
       "    </tr>\n",
       "    <tr>\n",
       "      <th>4</th>\n",
       "      <td>2020-11-30</td>\n",
       "      <td>[madam, shera, di, kom, dnt, think, fame, defa...</td>\n",
       "      <td>2020.0</td>\n",
       "      <td>11.0</td>\n",
       "      <td>15</td>\n",
       "      <td>1</td>\n",
       "    </tr>\n",
       "  </tbody>\n",
       "</table>\n",
       "</div>"
      ],
      "text/plain": [
       "        date                                    renderedContent    year   \n",
       "0 2020-11-27  [2014, bahut, hua, kisano, par, war, abki, bar...  2020.0  \\\n",
       "1 2020-11-29  [modi, medium, go, back, farmersprotest, takeb...  2020.0   \n",
       "2 2020-11-30  [supportfarm, farmersprotest, farmerprotest, f...  2020.0   \n",
       "3 2020-11-27  [we, everi, rite, protest, farmersprotest, dem...  2020.0   \n",
       "4 2020-11-30  [madam, shera, di, kom, dnt, think, fame, defa...  2020.0   \n",
       "\n",
       "   month  stopwords  hastags  \n",
       "0   11.0          6        2  \n",
       "1   11.0          5        2  \n",
       "2   11.0          1        7  \n",
       "3   11.0          4        1  \n",
       "4   11.0         15        1  "
      ]
     },
     "execution_count": 23,
     "metadata": {},
     "output_type": "execute_result"
    }
   ],
   "source": [
    "protest_df.head()"
   ]
  },
  {
   "cell_type": "code",
   "execution_count": 24,
   "id": "3f192a1c",
   "metadata": {},
   "outputs": [],
   "source": [
    "from textblob import TextBlob\n",
    "\n",
    "# Convert tokenized text back to string\n",
    "protest_df['renderedContent'] = protest_df['renderedContent'].apply(lambda tokens: ' '.join(tokens))\n",
    "\n",
    "# Calculate the sentiment polarity\n",
    "protest_df['sentiment_polarity'] = protest_df['renderedContent'].apply(lambda x: TextBlob(x).sentiment.polarity)\n",
    "\n",
    "# Convert sentiment polarity to numeric type\n",
    "protest_df['sentiment_polarity'] = protest_df['sentiment_polarity'].astype(float)\n",
    "\n",
    "# Classify sentiment polarity as negative, positive, or neutral\n",
    "protest_df['sentiment_class'] = protest_df['sentiment_polarity'].apply(lambda score: 'negative' if score < 0 else 'positive' if score > 0 else 'neutral')\n",
    "\n"
   ]
  },
  {
   "cell_type": "code",
   "execution_count": 25,
   "id": "44baac70",
   "metadata": {},
   "outputs": [
    {
     "data": {
      "text/html": [
       "<div>\n",
       "<style scoped>\n",
       "    .dataframe tbody tr th:only-of-type {\n",
       "        vertical-align: middle;\n",
       "    }\n",
       "\n",
       "    .dataframe tbody tr th {\n",
       "        vertical-align: top;\n",
       "    }\n",
       "\n",
       "    .dataframe thead th {\n",
       "        text-align: right;\n",
       "    }\n",
       "</style>\n",
       "<table border=\"1\" class=\"dataframe\">\n",
       "  <thead>\n",
       "    <tr style=\"text-align: right;\">\n",
       "      <th></th>\n",
       "      <th>date</th>\n",
       "      <th>renderedContent</th>\n",
       "      <th>year</th>\n",
       "      <th>month</th>\n",
       "      <th>stopwords</th>\n",
       "      <th>hastags</th>\n",
       "      <th>sentiment_polarity</th>\n",
       "      <th>sentiment_class</th>\n",
       "    </tr>\n",
       "  </thead>\n",
       "  <tbody>\n",
       "    <tr>\n",
       "      <th>0</th>\n",
       "      <td>2020-11-27</td>\n",
       "      <td>2014 bahut hua kisano par war abki bar modi sa...</td>\n",
       "      <td>2020.0</td>\n",
       "      <td>11.0</td>\n",
       "      <td>6</td>\n",
       "      <td>2</td>\n",
       "      <td>0.000000</td>\n",
       "      <td>neutral</td>\n",
       "    </tr>\n",
       "    <tr>\n",
       "      <th>1</th>\n",
       "      <td>2020-11-29</td>\n",
       "      <td>modi medium go back farmersprotest takebackfar...</td>\n",
       "      <td>2020.0</td>\n",
       "      <td>11.0</td>\n",
       "      <td>5</td>\n",
       "      <td>2</td>\n",
       "      <td>-0.027778</td>\n",
       "      <td>negative</td>\n",
       "    </tr>\n",
       "    <tr>\n",
       "      <th>2</th>\n",
       "      <td>2020-11-30</td>\n",
       "      <td>supportfarm farmersprotest farmerprotest farme...</td>\n",
       "      <td>2020.0</td>\n",
       "      <td>11.0</td>\n",
       "      <td>1</td>\n",
       "      <td>7</td>\n",
       "      <td>0.000000</td>\n",
       "      <td>neutral</td>\n",
       "    </tr>\n",
       "    <tr>\n",
       "      <th>3</th>\n",
       "      <td>2020-11-27</td>\n",
       "      <td>we everi rite protest farmersprotest democraci...</td>\n",
       "      <td>2020.0</td>\n",
       "      <td>11.0</td>\n",
       "      <td>4</td>\n",
       "      <td>1</td>\n",
       "      <td>0.000000</td>\n",
       "      <td>neutral</td>\n",
       "    </tr>\n",
       "    <tr>\n",
       "      <th>4</th>\n",
       "      <td>2020-11-30</td>\n",
       "      <td>madam shera di kom dnt think fame defam fight ...</td>\n",
       "      <td>2020.0</td>\n",
       "      <td>11.0</td>\n",
       "      <td>15</td>\n",
       "      <td>1</td>\n",
       "      <td>0.542857</td>\n",
       "      <td>positive</td>\n",
       "    </tr>\n",
       "  </tbody>\n",
       "</table>\n",
       "</div>"
      ],
      "text/plain": [
       "        date                                    renderedContent    year   \n",
       "0 2020-11-27  2014 bahut hua kisano par war abki bar modi sa...  2020.0  \\\n",
       "1 2020-11-29  modi medium go back farmersprotest takebackfar...  2020.0   \n",
       "2 2020-11-30  supportfarm farmersprotest farmerprotest farme...  2020.0   \n",
       "3 2020-11-27  we everi rite protest farmersprotest democraci...  2020.0   \n",
       "4 2020-11-30  madam shera di kom dnt think fame defam fight ...  2020.0   \n",
       "\n",
       "   month  stopwords  hastags  sentiment_polarity sentiment_class  \n",
       "0   11.0          6        2            0.000000         neutral  \n",
       "1   11.0          5        2           -0.027778        negative  \n",
       "2   11.0          1        7            0.000000         neutral  \n",
       "3   11.0          4        1            0.000000         neutral  \n",
       "4   11.0         15        1            0.542857        positive  "
      ]
     },
     "execution_count": 25,
     "metadata": {},
     "output_type": "execute_result"
    }
   ],
   "source": [
    "protest_df.head(5)"
   ]
  },
  {
   "cell_type": "code",
   "execution_count": 26,
   "id": "e7b49e01",
   "metadata": {},
   "outputs": [
    {
     "data": {
      "image/png": "[encoded data removed]",
      "text/plain": [
       "<Figure size 432x288 with 1 Axes>"
      ]
     },
     "metadata": {
      "needs_background": "light"
     },
     "output_type": "display_data"
    }
   ],
   "source": [
    "import matplotlib.pyplot as plt\n",
    "\n",
    "# Data for plotting\n",
    "polarity_counts = protest_df['sentiment_class'].value_counts()\n",
    "\n",
    "# Plotting\n",
    "plt.bar(polarity_counts.index, polarity_counts.values)\n",
    "\n",
    "# Customize the plot\n",
    "plt.xlabel('Polarity')\n",
    "plt.ylabel('Count')\n",
    "plt.title('Sentiment Polarity Distribution')\n",
    "plt.xticks(rotation=45)\n",
    "\n",
    "# Display the plot\n",
    "plt.show()\n"
   ]
  },
  {
   "cell_type": "code",
   "execution_count": 27,
   "id": "e3451d25",
   "metadata": {},
   "outputs": [
    {
     "data": {
      "image/png": "[encoded data removed]",
      "text/plain": [
       "<Figure size 432x288 with 1 Axes>"
      ]
     },
     "metadata": {
      "needs_background": "light"
     },
     "output_type": "display_data"
    }
   ],
   "source": [
    "import matplotlib.pyplot as plt\n",
    "\n",
    "# Data for plotting\n",
    "polarity_counts = protest_df['sentiment_class'].value_counts()\n",
    "\n",
    "# Define the desired order of polarities\n",
    "desired_order = ['positive', 'neutral', 'negative']\n",
    "\n",
    "# Reorder the polarity counts based on the desired order\n",
    "polarity_counts = polarity_counts.reindex(desired_order)\n",
    "\n",
    "# Define colors for each polarity\n",
    "colors = ['green', 'blue', 'red']\n",
    "\n",
    "# Plotting\n",
    "plt.bar(polarity_counts.index, polarity_counts.values, color=colors)\n",
    "\n",
    "# Customize the plot\n",
    "plt.xlabel('Polarity')\n",
    "plt.ylabel('Count')\n",
    "plt.title('Sentiment Polarity Distribution')\n",
    "plt.xticks(rotation=45)\n",
    "\n",
    "# Display the plot\n",
    "plt.show()\n"
   ]
  },
  {
   "cell_type": "code",
   "execution_count": 28,
   "id": "59f4667d",
   "metadata": {},
   "outputs": [
    {
     "data": {
      "text/html": [
       "<div>\n",
       "<style scoped>\n",
       "    .dataframe tbody tr th:only-of-type {\n",
       "        vertical-align: middle;\n",
       "    }\n",
       "\n",
       "    .dataframe tbody tr th {\n",
       "        vertical-align: top;\n",
       "    }\n",
       "\n",
       "    .dataframe thead th {\n",
       "        text-align: right;\n",
       "    }\n",
       "</style>\n",
       "<table border=\"1\" class=\"dataframe\">\n",
       "  <thead>\n",
       "    <tr style=\"text-align: right;\">\n",
       "      <th></th>\n",
       "      <th>date</th>\n",
       "      <th>renderedContent</th>\n",
       "      <th>year</th>\n",
       "      <th>month</th>\n",
       "      <th>stopwords</th>\n",
       "      <th>hastags</th>\n",
       "      <th>sentiment_polarity</th>\n",
       "      <th>sentiment_class</th>\n",
       "      <th>negative</th>\n",
       "      <th>neutral</th>\n",
       "      <th>positive</th>\n",
       "    </tr>\n",
       "  </thead>\n",
       "  <tbody>\n",
       "    <tr>\n",
       "      <th>0</th>\n",
       "      <td>2020-11-27</td>\n",
       "      <td>2014 bahut hua kisano par war abki bar modi sa...</td>\n",
       "      <td>2020.0</td>\n",
       "      <td>11.0</td>\n",
       "      <td>6</td>\n",
       "      <td>2</td>\n",
       "      <td>0.000000</td>\n",
       "      <td>neutral</td>\n",
       "      <td>False</td>\n",
       "      <td>True</td>\n",
       "      <td>False</td>\n",
       "    </tr>\n",
       "    <tr>\n",
       "      <th>1</th>\n",
       "      <td>2020-11-29</td>\n",
       "      <td>modi medium go back farmersprotest takebackfar...</td>\n",
       "      <td>2020.0</td>\n",
       "      <td>11.0</td>\n",
       "      <td>5</td>\n",
       "      <td>2</td>\n",
       "      <td>-0.027778</td>\n",
       "      <td>negative</td>\n",
       "      <td>True</td>\n",
       "      <td>False</td>\n",
       "      <td>False</td>\n",
       "    </tr>\n",
       "    <tr>\n",
       "      <th>2</th>\n",
       "      <td>2020-11-30</td>\n",
       "      <td>supportfarm farmersprotest farmerprotest farme...</td>\n",
       "      <td>2020.0</td>\n",
       "      <td>11.0</td>\n",
       "      <td>1</td>\n",
       "      <td>7</td>\n",
       "      <td>0.000000</td>\n",
       "      <td>neutral</td>\n",
       "      <td>False</td>\n",
       "      <td>True</td>\n",
       "      <td>False</td>\n",
       "    </tr>\n",
       "    <tr>\n",
       "      <th>3</th>\n",
       "      <td>2020-11-27</td>\n",
       "      <td>we everi rite protest farmersprotest democraci...</td>\n",
       "      <td>2020.0</td>\n",
       "      <td>11.0</td>\n",
       "      <td>4</td>\n",
       "      <td>1</td>\n",
       "      <td>0.000000</td>\n",
       "      <td>neutral</td>\n",
       "      <td>False</td>\n",
       "      <td>True</td>\n",
       "      <td>False</td>\n",
       "    </tr>\n",
       "    <tr>\n",
       "      <th>4</th>\n",
       "      <td>2020-11-30</td>\n",
       "      <td>madam shera di kom dnt think fame defam fight ...</td>\n",
       "      <td>2020.0</td>\n",
       "      <td>11.0</td>\n",
       "      <td>15</td>\n",
       "      <td>1</td>\n",
       "      <td>0.542857</td>\n",
       "      <td>positive</td>\n",
       "      <td>False</td>\n",
       "      <td>False</td>\n",
       "      <td>True</td>\n",
       "    </tr>\n",
       "  </tbody>\n",
       "</table>\n",
       "</div>"
      ],
      "text/plain": [
       "        date                                    renderedContent    year   \n",
       "0 2020-11-27  2014 bahut hua kisano par war abki bar modi sa...  2020.0  \\\n",
       "1 2020-11-29  modi medium go back farmersprotest takebackfar...  2020.0   \n",
       "2 2020-11-30  supportfarm farmersprotest farmerprotest farme...  2020.0   \n",
       "3 2020-11-27  we everi rite protest farmersprotest democraci...  2020.0   \n",
       "4 2020-11-30  madam shera di kom dnt think fame defam fight ...  2020.0   \n",
       "\n",
       "   month  stopwords  hastags  sentiment_polarity sentiment_class  negative   \n",
       "0   11.0          6        2            0.000000         neutral     False  \\\n",
       "1   11.0          5        2           -0.027778        negative      True   \n",
       "2   11.0          1        7            0.000000         neutral     False   \n",
       "3   11.0          4        1            0.000000         neutral     False   \n",
       "4   11.0         15        1            0.542857        positive     False   \n",
       "\n",
       "   neutral  positive  \n",
       "0     True     False  \n",
       "1    False     False  \n",
       "2     True     False  \n",
       "3     True     False  \n",
       "4    False      True  "
      ]
     },
     "execution_count": 28,
     "metadata": {},
     "output_type": "execute_result"
    }
   ],
   "source": [
    "# Perform one-hot encoding\n",
    "one_hot_encoded = pd.get_dummies(protest_df['sentiment_class'])\n",
    "\n",
    "# Concatenate the one-hot encoded DataFrame with the original DataFrame\n",
    "protest_df_encoded = pd.concat([protest_df, one_hot_encoded], axis=1)\n",
    "\n",
    "# Print the updated DataFrame\n",
    "protest_df_encoded.head()\n"
   ]
  },
  {
   "cell_type": "markdown",
   "id": "14c2a835",
   "metadata": {},
   "source": [
    "###### Select columns to train the model"
   ]
  },
  {
   "cell_type": "code",
   "execution_count": 29,
   "id": "ef6b0ba2",
   "metadata": {},
   "outputs": [],
   "source": [
    "selected_cols = ['renderedContent','sentiment_class','negative','neutral','positive']\n",
    "protest_train = protest_df_encoded[selected_cols]\n"
   ]
  },
  {
   "cell_type": "code",
   "execution_count": 30,
   "id": "08a724e3",
   "metadata": {},
   "outputs": [
    {
     "data": {
      "text/html": [
       "<div>\n",
       "<style scoped>\n",
       "    .dataframe tbody tr th:only-of-type {\n",
       "        vertical-align: middle;\n",
       "    }\n",
       "\n",
       "    .dataframe tbody tr th {\n",
       "        vertical-align: top;\n",
       "    }\n",
       "\n",
       "    .dataframe thead th {\n",
       "        text-align: right;\n",
       "    }\n",
       "</style>\n",
       "<table border=\"1\" class=\"dataframe\">\n",
       "  <thead>\n",
       "    <tr style=\"text-align: right;\">\n",
       "      <th></th>\n",
       "      <th>renderedContent</th>\n",
       "      <th>sentiment_class</th>\n",
       "      <th>negative</th>\n",
       "      <th>neutral</th>\n",
       "      <th>positive</th>\n",
       "    </tr>\n",
       "  </thead>\n",
       "  <tbody>\n",
       "    <tr>\n",
       "      <th>0</th>\n",
       "      <td>2014 bahut hua kisano par war abki bar modi sa...</td>\n",
       "      <td>neutral</td>\n",
       "      <td>False</td>\n",
       "      <td>True</td>\n",
       "      <td>False</td>\n",
       "    </tr>\n",
       "    <tr>\n",
       "      <th>1</th>\n",
       "      <td>modi medium go back farmersprotest takebackfar...</td>\n",
       "      <td>negative</td>\n",
       "      <td>True</td>\n",
       "      <td>False</td>\n",
       "      <td>False</td>\n",
       "    </tr>\n",
       "    <tr>\n",
       "      <th>2</th>\n",
       "      <td>supportfarm farmersprotest farmerprotest farme...</td>\n",
       "      <td>neutral</td>\n",
       "      <td>False</td>\n",
       "      <td>True</td>\n",
       "      <td>False</td>\n",
       "    </tr>\n",
       "    <tr>\n",
       "      <th>3</th>\n",
       "      <td>we everi rite protest farmersprotest democraci...</td>\n",
       "      <td>neutral</td>\n",
       "      <td>False</td>\n",
       "      <td>True</td>\n",
       "      <td>False</td>\n",
       "    </tr>\n",
       "    <tr>\n",
       "      <th>4</th>\n",
       "      <td>madam shera di kom dnt think fame defam fight ...</td>\n",
       "      <td>positive</td>\n",
       "      <td>False</td>\n",
       "      <td>False</td>\n",
       "      <td>True</td>\n",
       "    </tr>\n",
       "  </tbody>\n",
       "</table>\n",
       "</div>"
      ],
      "text/plain": [
       "                                     renderedContent sentiment_class   \n",
       "0  2014 bahut hua kisano par war abki bar modi sa...         neutral  \\\n",
       "1  modi medium go back farmersprotest takebackfar...        negative   \n",
       "2  supportfarm farmersprotest farmerprotest farme...         neutral   \n",
       "3  we everi rite protest farmersprotest democraci...         neutral   \n",
       "4  madam shera di kom dnt think fame defam fight ...        positive   \n",
       "\n",
       "   negative  neutral  positive  \n",
       "0     False     True     False  \n",
       "1      True    False     False  \n",
       "2     False     True     False  \n",
       "3     False     True     False  \n",
       "4     False    False      True  "
      ]
     },
     "execution_count": 30,
     "metadata": {},
     "output_type": "execute_result"
    }
   ],
   "source": [
    "protest_train.head()"
   ]
  },
  {
   "cell_type": "code",
   "execution_count": 31,
   "id": "4e981119",
   "metadata": {},
   "outputs": [
    {
     "name": "stderr",
     "output_type": "stream",
     "text": [
      "/tmp/ipykernel_24285/3285403362.py:5: SettingWithCopyWarning: \n",
      "A value is trying to be set on a copy of a slice from a DataFrame.\n",
      "Try using .loc[row_indexer,col_indexer] = value instead\n",
      "\n",
      "See the caveats in the documentation: https://pandas.pydata.org/pandas-docs/stable/user_guide/indexing.html#returning-a-view-versus-a-copy\n",
      "  protest_train[boolean_cols] = protest_train[boolean_cols].astype(int)\n"
     ]
    }
   ],
   "source": [
    "# Identify the column(s) with boolean values\n",
    "boolean_cols = ['negative', 'neutral', 'positive']\n",
    "\n",
    "# Convert boolean columns to integers\n",
    "protest_train[boolean_cols] = protest_train[boolean_cols].astype(int)\n"
   ]
  },
  {
   "cell_type": "code",
   "execution_count": 32,
   "id": "8dc7f195",
   "metadata": {},
   "outputs": [
    {
     "name": "stderr",
     "output_type": "stream",
     "text": [
      "/tmp/ipykernel_24285/3171903981.py:7: SettingWithCopyWarning: \n",
      "A value is trying to be set on a copy of a slice from a DataFrame.\n",
      "Try using .loc[row_indexer,col_indexer] = value instead\n",
      "\n",
      "See the caveats in the documentation: https://pandas.pydata.org/pandas-docs/stable/user_guide/indexing.html#returning-a-view-versus-a-copy\n",
      "  protest_train['sentiment_class'] = label_encoder.fit_transform(protest_df['sentiment_class'])\n"
     ]
    }
   ],
   "source": [
    "from sklearn.preprocessing import LabelEncoder\n",
    "\n",
    "# Initialize the LabelEncoder\n",
    "label_encoder = LabelEncoder()\n",
    "\n",
    "# Apply label encoding to the 'sentiment_class' column\n",
    "protest_train['sentiment_class'] = label_encoder.fit_transform(protest_df['sentiment_class'])\n"
   ]
  },
  {
   "cell_type": "code",
   "execution_count": null,
   "id": "599f06bf",
   "metadata": {},
   "outputs": [],
   "source": []
  },
  {
   "cell_type": "markdown",
   "id": "362ad59c",
   "metadata": {},
   "source": [
    "### Creating a Multi Layer Perceptron"
   ]
  },
  {
   "cell_type": "markdown",
   "id": "abda139a",
   "metadata": {},
   "source": [
    "### APPLY TRAIN TEST"
   ]
  },
  {
   "cell_type": "code",
   "execution_count": 33,
   "id": "9684f47c",
   "metadata": {},
   "outputs": [],
   "source": [
    "X = protest_train['renderedContent'].values\n",
    "y = protest_train.drop('renderedContent', axis=1).values\n",
    "X_train, X_test, y_train, y_test = train_test_split(X, y, test_size=0.30, random_state=42)"
   ]
  },
  {
   "cell_type": "code",
   "execution_count": 34,
   "id": "88f793c1",
   "metadata": {},
   "outputs": [],
   "source": [
    "vect = CountVectorizer()\n",
    "X_train = vect.fit_transform(X_train)\n",
    "X_test = vect.transform(X_test)"
   ]
  },
  {
   "cell_type": "code",
   "execution_count": 35,
   "id": "1dee6c3d",
   "metadata": {},
   "outputs": [],
   "source": [
    "tfidf = TfidfTransformer()\n",
    "X_train = tfidf.fit_transform(X_train)\n",
    "X_test = tfidf.transform(X_test)\n",
    "X_train = X_train.toarray()\n",
    "X_test = X_test.toarray()"
   ]
  },
  {
   "cell_type": "code",
   "execution_count": 36,
   "id": "aa98e0bc",
   "metadata": {},
   "outputs": [],
   "source": [
    "model = Sequential()\n",
    "\n",
    "model.add(Dense(units=1000,activation='relu'))\n",
    "model.add(Dropout(0.5))\n",
    "\n",
    "model.add(Dense(units=200,activation='relu'))\n",
    "model.add(Dropout(0.5))\n",
    "\n",
    "model.add(Dense(units=100,activation='relu'))\n",
    "model.add(Dropout(0.5))\n",
    "\n",
    "model.add(Dense(units=4, activation='softmax'))\n",
    "\n",
    "opt=tf.keras.optimizers.Adam(learning_rate=0.001)\n",
    "model.compile(loss='categorical_crossentropy', optimizer=opt, metrics=['accuracy'])\n",
    "\n",
    "early_stop = EarlyStopping(monitor='val_loss', mode='min', verbose=1, patience=2)"
   ]
  },
  {
   "cell_type": "code",
   "execution_count": 37,
   "id": "1a786735",
   "metadata": {},
   "outputs": [
    {
     "name": "stdout",
     "output_type": "stream",
     "text": [
      "Epoch 1/100\n",
      "18/18 [==============================] - 2s 99ms/step - loss: 2.9028 - accuracy: 0.7857 - val_loss: 5.2384 - val_accuracy: 0.8544\n",
      "Epoch 2/100\n",
      "18/18 [==============================] - 2s 100ms/step - loss: 15.9628 - accuracy: 0.8448 - val_loss: 39.5541 - val_accuracy: 0.8544\n",
      "Epoch 3/100\n",
      "18/18 [==============================] - 2s 108ms/step - loss: 85.9491 - accuracy: 0.7295 - val_loss: 173.6083 - val_accuracy: 0.8544\n",
      "Epoch 3: early stopping\n"
     ]
    },
    {
     "data": {
      "text/plain": [
       "<keras.callbacks.History at 0x7f32cd467cd0>"
      ]
     },
     "execution_count": 37,
     "metadata": {},
     "output_type": "execute_result"
    }
   ],
   "source": [
    "model.fit(x=X_train, y=y_train, batch_size=256, epochs=100, validation_data=(X_test, y_test), verbose=1, callbacks=early_stop)"
   ]
  },
  {
   "cell_type": "code",
   "execution_count": 38,
   "id": "c9dc9d89",
   "metadata": {},
   "outputs": [
    {
     "name": "stdout",
     "output_type": "stream",
     "text": [
      "31/31 [==============================] - 0s 9ms/step - loss: 173.6083 - accuracy: 0.8544\n",
      "Test accuracy: 0.854358971118927\n"
     ]
    }
   ],
   "source": [
    "model_score = model.evaluate(X_test, y_test, batch_size=64, verbose=1)\n",
    "print('Test accuracy:', model_score[1])"
   ]
  },
  {
   "cell_type": "code",
   "execution_count": 39,
   "id": "c22c6c35",
   "metadata": {},
   "outputs": [
    {
     "name": "stdout",
     "output_type": "stream",
     "text": [
      "61/61 [==============================] - 0s 6ms/step\n"
     ]
    },
    {
     "data": {
      "text/plain": [
       "array([[1.0000000e+00, 0.0000000e+00, 1.5323198e-26, 0.0000000e+00],\n",
       "       [1.0000000e+00, 0.0000000e+00, 5.8523940e-20, 0.0000000e+00],\n",
       "       [1.0000000e+00, 0.0000000e+00, 2.9047568e-29, 0.0000000e+00],\n",
       "       ...,\n",
       "       [1.0000000e+00, 0.0000000e+00, 3.9789866e-23, 0.0000000e+00],\n",
       "       [1.0000000e+00, 0.0000000e+00, 5.2213826e-25, 0.0000000e+00],\n",
       "       [1.0000000e+00, 0.0000000e+00, 5.1735881e-22, 0.0000000e+00]],\n",
       "      dtype=float32)"
      ]
     },
     "execution_count": 39,
     "metadata": {},
     "output_type": "execute_result"
    }
   ],
   "source": [
    "preds = model.predict(X_test)\n",
    "preds"
   ]
  },
  {
   "cell_type": "code",
   "execution_count": 40,
   "id": "195a2811",
   "metadata": {},
   "outputs": [
    {
     "data": {
      "text/plain": [
       "(1950, 4)"
      ]
     },
     "execution_count": 40,
     "metadata": {},
     "output_type": "execute_result"
    }
   ],
   "source": [
    "preds.shape"
   ]
  },
  {
   "cell_type": "markdown",
   "id": "f0b11244",
   "metadata": {},
   "source": [
    "## Time Series"
   ]
  },
  {
   "cell_type": "code",
   "execution_count": 41,
   "id": "189930ed",
   "metadata": {},
   "outputs": [],
   "source": [
    "#pip install skforecast --user"
   ]
  },
  {
   "cell_type": "code",
   "execution_count": 42,
   "id": "a3542b9f",
   "metadata": {},
   "outputs": [],
   "source": [
    "# Data manipulation\n",
    "# ==============================================================================\n",
    "import numpy as np\n",
    "import pandas as pd\n",
    "\n",
    "# Plots\n",
    "# ==============================================================================\n",
    "import matplotlib.pyplot as plt\n",
    "plt.style.use('fivethirtyeight')\n",
    "plt.rcParams['lines.linewidth'] = 1.5\n",
    "%matplotlib inline\n",
    "\n",
    "# Modeling and Forecasting\n",
    "# ==============================================================================\n",
    "from sklearn.linear_model import LinearRegression\n",
    "from sklearn.linear_model import Lasso\n",
    "from sklearn.ensemble import RandomForestRegressor\n",
    "from sklearn.metrics import mean_squared_error\n",
    "from sklearn.preprocessing import StandardScaler\n",
    "from sklearn.pipeline import make_pipeline\n",
    "\n",
    "from skforecast.ForecasterAutoreg import ForecasterAutoreg\n",
    "from skforecast.ForecasterAutoregCustom import ForecasterAutoregCustom\n",
    "from skforecast.ForecasterAutoregMultiOutput import ForecasterAutoregMultiOutput\n",
    "from skforecast.model_selection import grid_search_forecaster\n",
    "from skforecast.model_selection import backtesting_forecaster\n",
    "\n",
    "from joblib import dump, load\n",
    "\n",
    "# Warnings configuration\n",
    "# ==============================================================================\n",
    "import warnings\n",
    "# warnings.filterwarnings('ignore')"
   ]
  },
  {
   "cell_type": "code",
   "execution_count": 43,
   "id": "5f4e8a96",
   "metadata": {},
   "outputs": [
    {
     "data": {
      "text/html": [
       "<div>\n",
       "<style scoped>\n",
       "    .dataframe tbody tr th:only-of-type {\n",
       "        vertical-align: middle;\n",
       "    }\n",
       "\n",
       "    .dataframe tbody tr th {\n",
       "        vertical-align: top;\n",
       "    }\n",
       "\n",
       "    .dataframe thead th {\n",
       "        text-align: right;\n",
       "    }\n",
       "</style>\n",
       "<table border=\"1\" class=\"dataframe\">\n",
       "  <thead>\n",
       "    <tr style=\"text-align: right;\">\n",
       "      <th></th>\n",
       "      <th>date</th>\n",
       "      <th>renderedContent</th>\n",
       "      <th>year</th>\n",
       "      <th>month</th>\n",
       "      <th>stopwords</th>\n",
       "      <th>hastags</th>\n",
       "      <th>sentiment_polarity</th>\n",
       "      <th>sentiment_class</th>\n",
       "    </tr>\n",
       "  </thead>\n",
       "  <tbody>\n",
       "    <tr>\n",
       "      <th>0</th>\n",
       "      <td>2020-11-27</td>\n",
       "      <td>2014 bahut hua kisano par war abki bar modi sa...</td>\n",
       "      <td>2020.0</td>\n",
       "      <td>11.0</td>\n",
       "      <td>6</td>\n",
       "      <td>2</td>\n",
       "      <td>0.000000</td>\n",
       "      <td>neutral</td>\n",
       "    </tr>\n",
       "    <tr>\n",
       "      <th>1</th>\n",
       "      <td>2020-11-29</td>\n",
       "      <td>modi medium go back farmersprotest takebackfar...</td>\n",
       "      <td>2020.0</td>\n",
       "      <td>11.0</td>\n",
       "      <td>5</td>\n",
       "      <td>2</td>\n",
       "      <td>-0.027778</td>\n",
       "      <td>negative</td>\n",
       "    </tr>\n",
       "    <tr>\n",
       "      <th>2</th>\n",
       "      <td>2020-11-30</td>\n",
       "      <td>supportfarm farmersprotest farmerprotest farme...</td>\n",
       "      <td>2020.0</td>\n",
       "      <td>11.0</td>\n",
       "      <td>1</td>\n",
       "      <td>7</td>\n",
       "      <td>0.000000</td>\n",
       "      <td>neutral</td>\n",
       "    </tr>\n",
       "    <tr>\n",
       "      <th>3</th>\n",
       "      <td>2020-11-27</td>\n",
       "      <td>we everi rite protest farmersprotest democraci...</td>\n",
       "      <td>2020.0</td>\n",
       "      <td>11.0</td>\n",
       "      <td>4</td>\n",
       "      <td>1</td>\n",
       "      <td>0.000000</td>\n",
       "      <td>neutral</td>\n",
       "    </tr>\n",
       "    <tr>\n",
       "      <th>4</th>\n",
       "      <td>2020-11-30</td>\n",
       "      <td>madam shera di kom dnt think fame defam fight ...</td>\n",
       "      <td>2020.0</td>\n",
       "      <td>11.0</td>\n",
       "      <td>15</td>\n",
       "      <td>1</td>\n",
       "      <td>0.542857</td>\n",
       "      <td>positive</td>\n",
       "    </tr>\n",
       "  </tbody>\n",
       "</table>\n",
       "</div>"
      ],
      "text/plain": [
       "        date                                    renderedContent    year   \n",
       "0 2020-11-27  2014 bahut hua kisano par war abki bar modi sa...  2020.0  \\\n",
       "1 2020-11-29  modi medium go back farmersprotest takebackfar...  2020.0   \n",
       "2 2020-11-30  supportfarm farmersprotest farmerprotest farme...  2020.0   \n",
       "3 2020-11-27  we everi rite protest farmersprotest democraci...  2020.0   \n",
       "4 2020-11-30  madam shera di kom dnt think fame defam fight ...  2020.0   \n",
       "\n",
       "   month  stopwords  hastags  sentiment_polarity sentiment_class  \n",
       "0   11.0          6        2            0.000000         neutral  \n",
       "1   11.0          5        2           -0.027778        negative  \n",
       "2   11.0          1        7            0.000000         neutral  \n",
       "3   11.0          4        1            0.000000         neutral  \n",
       "4   11.0         15        1            0.542857        positive  "
      ]
     },
     "execution_count": 43,
     "metadata": {},
     "output_type": "execute_result"
    }
   ],
   "source": [
    "protest_df.head()"
   ]
  },
  {
   "cell_type": "code",
   "execution_count": 44,
   "id": "98fc764b",
   "metadata": {},
   "outputs": [],
   "source": [
    "selected_cols = ['date','sentiment_polarity']\n",
    "time_df = protest_df_encoded[selected_cols]\n"
   ]
  },
  {
   "cell_type": "code",
   "execution_count": 45,
   "id": "feb9b35d",
   "metadata": {},
   "outputs": [
    {
     "data": {
      "text/html": [
       "<div>\n",
       "<style scoped>\n",
       "    .dataframe tbody tr th:only-of-type {\n",
       "        vertical-align: middle;\n",
       "    }\n",
       "\n",
       "    .dataframe tbody tr th {\n",
       "        vertical-align: top;\n",
       "    }\n",
       "\n",
       "    .dataframe thead th {\n",
       "        text-align: right;\n",
       "    }\n",
       "</style>\n",
       "<table border=\"1\" class=\"dataframe\">\n",
       "  <thead>\n",
       "    <tr style=\"text-align: right;\">\n",
       "      <th></th>\n",
       "      <th>date</th>\n",
       "      <th>sentiment_polarity</th>\n",
       "    </tr>\n",
       "  </thead>\n",
       "  <tbody>\n",
       "    <tr>\n",
       "      <th>0</th>\n",
       "      <td>2020-11-27</td>\n",
       "      <td>0.000000</td>\n",
       "    </tr>\n",
       "    <tr>\n",
       "      <th>1</th>\n",
       "      <td>2020-11-29</td>\n",
       "      <td>-0.027778</td>\n",
       "    </tr>\n",
       "    <tr>\n",
       "      <th>2</th>\n",
       "      <td>2020-11-30</td>\n",
       "      <td>0.000000</td>\n",
       "    </tr>\n",
       "    <tr>\n",
       "      <th>3</th>\n",
       "      <td>2020-11-27</td>\n",
       "      <td>0.000000</td>\n",
       "    </tr>\n",
       "    <tr>\n",
       "      <th>4</th>\n",
       "      <td>2020-11-30</td>\n",
       "      <td>0.542857</td>\n",
       "    </tr>\n",
       "  </tbody>\n",
       "</table>\n",
       "</div>"
      ],
      "text/plain": [
       "        date  sentiment_polarity\n",
       "0 2020-11-27            0.000000\n",
       "1 2020-11-29           -0.027778\n",
       "2 2020-11-30            0.000000\n",
       "3 2020-11-27            0.000000\n",
       "4 2020-11-30            0.542857"
      ]
     },
     "execution_count": 45,
     "metadata": {},
     "output_type": "execute_result"
    }
   ],
   "source": [
    "time_df.head()"
   ]
  },
  {
   "cell_type": "code",
   "execution_count": 46,
   "id": "f0badfb8",
   "metadata": {},
   "outputs": [],
   "source": [
    "import pandas as pd\n",
    "# Sort the DataFrame based on the 'date' column\n",
    "time_df = time_df.sort_values('date')\n",
    "\n",
    "# Reset the index if needed\n",
    "time_df = time_df.reset_index(drop=True)\n"
   ]
  },
  {
   "cell_type": "code",
   "execution_count": 47,
   "id": "0fecac67",
   "metadata": {},
   "outputs": [
    {
     "data": {
      "text/html": [
       "<div>\n",
       "<style scoped>\n",
       "    .dataframe tbody tr th:only-of-type {\n",
       "        vertical-align: middle;\n",
       "    }\n",
       "\n",
       "    .dataframe tbody tr th {\n",
       "        vertical-align: top;\n",
       "    }\n",
       "\n",
       "    .dataframe thead th {\n",
       "        text-align: right;\n",
       "    }\n",
       "</style>\n",
       "<table border=\"1\" class=\"dataframe\">\n",
       "  <thead>\n",
       "    <tr style=\"text-align: right;\">\n",
       "      <th></th>\n",
       "      <th>date</th>\n",
       "      <th>sentiment_polarity</th>\n",
       "    </tr>\n",
       "  </thead>\n",
       "  <tbody>\n",
       "    <tr>\n",
       "      <th>0</th>\n",
       "      <td>2020-11-05</td>\n",
       "      <td>0.000000</td>\n",
       "    </tr>\n",
       "    <tr>\n",
       "      <th>1</th>\n",
       "      <td>2020-11-07</td>\n",
       "      <td>0.800000</td>\n",
       "    </tr>\n",
       "    <tr>\n",
       "      <th>2</th>\n",
       "      <td>2020-11-12</td>\n",
       "      <td>-0.133333</td>\n",
       "    </tr>\n",
       "    <tr>\n",
       "      <th>3</th>\n",
       "      <td>2020-11-23</td>\n",
       "      <td>0.000000</td>\n",
       "    </tr>\n",
       "    <tr>\n",
       "      <th>4</th>\n",
       "      <td>2020-11-24</td>\n",
       "      <td>0.045455</td>\n",
       "    </tr>\n",
       "  </tbody>\n",
       "</table>\n",
       "</div>"
      ],
      "text/plain": [
       "        date  sentiment_polarity\n",
       "0 2020-11-05            0.000000\n",
       "1 2020-11-07            0.800000\n",
       "2 2020-11-12           -0.133333\n",
       "3 2020-11-23            0.000000\n",
       "4 2020-11-24            0.045455"
      ]
     },
     "execution_count": 47,
     "metadata": {},
     "output_type": "execute_result"
    }
   ],
   "source": [
    "time_df.head()"
   ]
  },
  {
   "cell_type": "code",
   "execution_count": 48,
   "id": "0b8ecbe6",
   "metadata": {},
   "outputs": [],
   "source": [
    "#aggregating the date and sentiment polarity\n",
    "\n",
    "# Group by day and calculate average polarity\n",
    "aggregated_df = time_df.groupby(time_df['date'].dt.date)['sentiment_polarity'].mean()\n",
    "\n",
    "# Reset the index\n",
    "aggregated_df = aggregated_df.reset_index()\n",
    "\n",
    "# Rename the columns\n",
    "aggregated_df.columns = ['date', 'sentiment_polarity']\n",
    "\n",
    "# Sort the DataFrame based on date\n",
    "aggregated_df = aggregated_df.sort_values('date')\n",
    "\n",
    "# Reset the index if needed\n",
    "aggregated_df = aggregated_df.reset_index(drop=True)\n"
   ]
  },
  {
   "cell_type": "code",
   "execution_count": 49,
   "id": "b657caa8",
   "metadata": {},
   "outputs": [],
   "source": [
    "aggregated_df= aggregated_df.set_index('date')"
   ]
  },
  {
   "cell_type": "code",
   "execution_count": 50,
   "id": "560b974d",
   "metadata": {},
   "outputs": [
    {
     "name": "stdout",
     "output_type": "stream",
     "text": [
      "<class 'pandas.core.frame.DataFrame'>\n",
      "Index: 367 entries, 2020-11-05 to 2021-11-21\n",
      "Data columns (total 1 columns):\n",
      " #   Column              Non-Null Count  Dtype  \n",
      "---  ------              --------------  -----  \n",
      " 0   sentiment_polarity  367 non-null    float64\n",
      "dtypes: float64(1)\n",
      "memory usage: 5.7+ KB\n"
     ]
    }
   ],
   "source": [
    "aggregated_df.info()"
   ]
  },
  {
   "cell_type": "code",
   "execution_count": 51,
   "id": "7b06ffeb",
   "metadata": {},
   "outputs": [
    {
     "name": "stdout",
     "output_type": "stream",
     "text": [
      "Number of rows with missing values: 0.0\n"
     ]
    }
   ],
   "source": [
    "print(f'Number of rows with missing values: {aggregated_df.isnull().any(axis=1).mean()}')"
   ]
  },
  {
   "cell_type": "code",
   "execution_count": 52,
   "id": "202b3846",
   "metadata": {},
   "outputs": [
    {
     "name": "stdout",
     "output_type": "stream",
     "text": [
      "True\n"
     ]
    }
   ],
   "source": [
    "#verify the completeness of the index\n",
    "is_complete_index = aggregated_df.index.is_unique\n",
    "print(is_complete_index)\n"
   ]
  },
  {
   "cell_type": "code",
   "execution_count": 53,
   "id": "3aa2543b",
   "metadata": {},
   "outputs": [
    {
     "name": "stdout",
     "output_type": "stream",
     "text": [
      "Train dates : 2020-11-05 --- 2021-10-02  (n=317)\n",
      "Test dates  : 2021-10-03 --- 2021-11-21  (n=50)\n"
     ]
    },
    {
     "data": {
      "text/plain": [
       "<matplotlib.legend.Legend at 0x7f32712b1b40>"
      ]
     },
     "execution_count": 53,
     "metadata": {},
     "output_type": "execute_result"
    },
    {
     "data": {
      "image/png": "[encoded data removed]",
      "text/plain": [
       "<Figure size 648x288 with 1 Axes>"
      ]
     },
     "metadata": {
      "needs_background": "light"
     },
     "output_type": "display_data"
    }
   ],
   "source": [
    "# Split data into train-test\n",
    "# ==============================================================================\n",
    "steps = 50\n",
    "aggregated_train = aggregated_df[:-steps]\n",
    "aggregated_test = aggregated_df[-steps:]\n",
    "\n",
    "print(f\"Train dates : {aggregated_train.index.min()} --- {aggregated_train.index.max()}  (n={len(aggregated_train)})\")\n",
    "print(f\"Test dates  : {aggregated_test.index.min()} --- {aggregated_test.index.max()}  (n={len(aggregated_test)})\")\n",
    "\n",
    "fig, ax = plt.subplots(figsize=(9, 4))\n",
    "aggregated_train['sentiment_polarity'].plot(ax=ax, label='train')\n",
    "aggregated_test['sentiment_polarity'].plot(ax=ax, label='test')\n",
    "ax.legend()\n"
   ]
  },
  {
   "cell_type": "code",
   "execution_count": 54,
   "id": "2496750f",
   "metadata": {},
   "outputs": [
    {
     "name": "stderr",
     "output_type": "stream",
     "text": [
      "/home/hduser/.local/lib/python3.10/site-packages/skforecast/utils/utils.py:799: UserWarning: `y` has no DatetimeIndex nor RangeIndex index. Index is overwritten with a RangeIndex.\n",
      "  warnings.warn(\n",
      "/home/hduser/.local/lib/python3.10/site-packages/skforecast/utils/utils.py:799: UserWarning: `y` has no DatetimeIndex nor RangeIndex index. Index is overwritten with a RangeIndex.\n",
      "  warnings.warn(\n"
     ]
    },
    {
     "data": {
      "text/plain": [
       "================= \n",
       "ForecasterAutoreg \n",
       "================= \n",
       "Regressor: RandomForestRegressor(random_state=123) \n",
       "Lags: [ 1  2  3  4  5  6  7  8  9 10 11 12 13 14 15 16 17 18 19 20 21 22 23 24\n",
       " 25] \n",
       "Transformer for y: None \n",
       "Transformer for exog: None \n",
       "Window size: 25 \n",
       "Weight function included: False \n",
       "Exogenous included: False \n",
       "Type of exogenous variable: None \n",
       "Exogenous variables names: None \n",
       "Training range: [0, 316] \n",
       "Training index type: RangeIndex \n",
       "Training index frequency: 1 \n",
       "Regressor parameters: {'bootstrap': True, 'ccp_alpha': 0.0, 'criterion': 'squared_error', 'max_depth': None, 'max_features': 1.0, 'max_leaf_nodes': None, 'max_samples': None, 'min_impurity_decrease': 0.0, 'min_samples_leaf': 1, 'min_samples_split': 2, 'min_weight_fraction_leaf': 0.0, 'n_estimators': 100, 'n_jobs': None, 'oob_score': False, 'random_state': 123, 'verbose': 0, 'warm_start': False} \n",
       "fit_kwargs: {} \n",
       "Creation date: 2023-05-24 22:25:53 \n",
       "Last fit date: 2023-05-24 22:25:53 \n",
       "Skforecast version: 0.8.0 \n",
       "Python version: 3.10.6 \n",
       "Forecaster id: None "
      ]
     },
     "execution_count": 54,
     "metadata": {},
     "output_type": "execute_result"
    }
   ],
   "source": [
    "# Create and train forecaster\n",
    "# ==============================================================================\n",
    "forecaster = ForecasterAutoreg(\n",
    "                regressor = RandomForestRegressor(random_state=123),\n",
    "                lags = 25\n",
    "                )\n",
    "\n",
    "forecaster.fit(y=aggregated_train['sentiment_polarity'])\n",
    "forecaster"
   ]
  },
  {
   "cell_type": "code",
   "execution_count": 55,
   "id": "564cfb05",
   "metadata": {},
   "outputs": [
    {
     "name": "stderr",
     "output_type": "stream",
     "text": [
      "/home/hduser/.local/lib/python3.10/site-packages/skforecast/utils/utils.py:862: UserWarning: `last_window` has no DatetimeIndex nor RangeIndex index. Index is overwritten with a RangeIndex.\n",
      "  warnings.warn(\n"
     ]
    },
    {
     "data": {
      "text/plain": [
       "25    0.110788\n",
       "26    0.059651\n",
       "27    0.070160\n",
       "28    0.052858\n",
       "29    0.053595\n",
       "Name: pred, dtype: float64"
      ]
     },
     "execution_count": 55,
     "metadata": {},
     "output_type": "execute_result"
    }
   ],
   "source": [
    "# Predictions\n",
    "# ==============================================================================\n",
    "steps = 50\n",
    "predictions = forecaster.predict(steps=steps)\n",
    "predictions.head()"
   ]
  },
  {
   "cell_type": "code",
   "execution_count": 56,
   "id": "a9ac81e2",
   "metadata": {},
   "outputs": [
    {
     "data": {
      "text/plain": [
       "(18571.0, 18952.0)"
      ]
     },
     "execution_count": 56,
     "metadata": {},
     "output_type": "execute_result"
    },
    {
     "data": {
      "image/png": "[encoded data removed]",
      "text/plain": [
       "<Figure size 1080x432 with 1 Axes>"
      ]
     },
     "metadata": {
      "needs_background": "light"
     },
     "output_type": "display_data"
    }
   ],
   "source": [
    "fig, ax = plt.subplots(figsize=(15, 6))\n",
    "aggregated_train['sentiment_polarity'].plot(ax=ax, label='train')\n",
    "aggregated_test['sentiment_polarity'].plot(ax=ax, label='test')\n",
    "predictions.plot(ax=ax, label='predictions')\n",
    "ax.legend()\n",
    "\n",
    "# Set x-axis range to desired date range\n",
    "start_date = aggregated_train.index.min()\n",
    "end_date = aggregated_test.index.max()\n",
    "ax.set_xlim(start_date, end_date)\n"
   ]
  },
  {
   "cell_type": "code",
   "execution_count": 57,
   "id": "936358f7",
   "metadata": {},
   "outputs": [
    {
     "name": "stdout",
     "output_type": "stream",
     "text": [
      "Test error (mse): 0.007653052020813214\n"
     ]
    }
   ],
   "source": [
    "# Test error\n",
    "# ==============================================================================\n",
    "error_mse = mean_squared_error(\n",
    "                y_true = aggregated_test['sentiment_polarity'],\n",
    "                y_pred = predictions\n",
    "            )\n",
    "\n",
    "print(f\"Test error (mse): {error_mse}\")"
   ]
  },
  {
   "cell_type": "markdown",
   "id": "517ed6a1",
   "metadata": {},
   "source": [
    "### SAVE THE MODEL"
   ]
  },
  {
   "cell_type": "code",
   "execution_count": 58,
   "id": "bf13108d",
   "metadata": {},
   "outputs": [
    {
     "data": {
      "text/plain": [
       "['forecaster_model.pkl']"
      ]
     },
     "execution_count": 58,
     "metadata": {},
     "output_type": "execute_result"
    }
   ],
   "source": [
    "import joblib\n",
    "\n",
    "# Save the trained model\n",
    "joblib.dump(forecaster, 'forecaster_model.pkl')\n"
   ]
  },
  {
   "cell_type": "markdown",
   "id": "785daed9",
   "metadata": {},
   "source": [
    "### DASHBOARD"
   ]
  },
  {
   "cell_type": "code",
   "execution_count": null,
   "id": "1a46b3ee",
   "metadata": {},
   "outputs": [
    {
     "name": "stdout",
     "output_type": "stream",
     "text": [
      "Dash is running on http://127.0.0.1:8050/\n",
      "\n"
     ]
    },
    {
     "name": "stderr",
     "output_type": "stream",
     "text": [
      "/tmp/ipykernel_24285/731155794.py:2: UserWarning: \n",
      "The dash_core_components package is deprecated. Please replace\n",
      "`import dash_core_components as dcc` with `from dash import dcc`\n",
      "  import dash_core_components as dcc\n",
      "/tmp/ipykernel_24285/731155794.py:3: UserWarning: \n",
      "The dash_html_components package is deprecated. Please replace\n",
      "`import dash_html_components as html` with `from dash import html`\n",
      "  import dash_html_components as html\n",
      "dash.dash  INFO  Dash is running on http://127.0.0.1:8050/\n",
      "\n"
     ]
    },
    {
     "name": "stdout",
     "output_type": "stream",
     "text": [
      " * Serving Flask app '__main__'\n",
      " * Debug mode: off\n"
     ]
    },
    {
     "name": "stderr",
     "output_type": "stream",
     "text": [
      "werkzeug   INFO  \u001b[31m\u001b[1mWARNING: This is a development server. Do not use it in a production deployment. Use a production WSGI server instead.\u001b[0m\n",
      " * Running on http://127.0.0.1:8050\n",
      "werkzeug   INFO  \u001b[33mPress CTRL+C to quit\u001b[0m\n",
      "werkzeug   INFO  127.0.0.1 - - [24/May/2023 22:26:12] \"GET / HTTP/1.1\" 200 -\n",
      "werkzeug   INFO  127.0.0.1 - - [24/May/2023 22:26:12] \"GET /_dash-dependencies HTTP/1.1\" 200 -\n",
      "werkzeug   INFO  127.0.0.1 - - [24/May/2023 22:26:12] \"GET /_dash-layout HTTP/1.1\" 200 -\n",
      "werkzeug   INFO  127.0.0.1 - - [24/May/2023 22:26:13] \"\u001b[36mGET /_dash-component-suites/dash/dcc/async-graph.js HTTP/1.1\u001b[0m\" 304 -\n",
      "werkzeug   INFO  127.0.0.1 - - [24/May/2023 22:26:13] \"\u001b[36mGET /_dash-component-suites/dash/dcc/async-plotlyjs.js HTTP/1.1\u001b[0m\" 304 -\n"
     ]
    }
   ],
   "source": [
    "import dash\n",
    "import dash_core_components as dcc\n",
    "import dash_html_components as html\n",
    "\n",
    "# ... (Previous code snippets)\n",
    "\n",
    "# Create Dash app\n",
    "app = dash.Dash(__name__)\n",
    "\n",
    "# Define layout\n",
    "app.layout = html.Div(children=[\n",
    "    html.H1('Time Series Dashboard'),\n",
    "    dcc.Graph(\n",
    "        id='time-series-plot',\n",
    "        figure={\n",
    "            'data': [\n",
    "                {'x': aggregated_train.index, 'y': aggregated_train['sentiment_polarity'], 'name': 'Train'},\n",
    "                {'x': aggregated_test.index, 'y': aggregated_test['sentiment_polarity'], 'name': 'Test'},\n",
    "                {'x': aggregated_test.index, 'y': predictions, 'name': 'Predictions'}\n",
    "            ],\n",
    "            'layout': {\n",
    "                'title': 'Sentiment Polarity',\n",
    "                'xaxis': {'title': 'Date'},\n",
    "                'yaxis': {'title': 'Sentiment Polarity'},\n",
    "                'legend': {'orientation': 'h', 'y': -0.2}  # Adjust the legend position\n",
    "            }\n",
    "        }\n",
    "    ),\n",
    "    dcc.Graph(\n",
    "        id='time-series-plot-week',\n",
    "        figure={\n",
    "            'data': [\n",
    "                {'x': aggregated_test.index[-7:], 'y': aggregated_test['sentiment_polarity'][-7:], 'name': 'Test'}\n",
    "            ],\n",
    "            'layout': {\n",
    "                'title': 'Sentiment Polarity (1 Week)',\n",
    "                'xaxis': {'title': 'Date'},\n",
    "                'yaxis': {'title': 'Sentiment Polarity'}\n",
    "            }\n",
    "        }\n",
    "    ),\n",
    "    dcc.Graph(\n",
    "        id='time-series-plot-month',\n",
    "        figure={\n",
    "            'data': [\n",
    "                {'x': aggregated_test.index[-30:], 'y': aggregated_test['sentiment_polarity'][-30:], 'name': 'Test'}\n",
    "            ],\n",
    "            'layout': {\n",
    "                'title': 'Sentiment Polarity (1 Month)',\n",
    "                'xaxis': {'title': 'Date'},\n",
    "                'yaxis': {'title': 'Sentiment Polarity'}\n",
    "            }\n",
    "        }\n",
    "    ),\n",
    "    dcc.Graph(\n",
    "        id='time-series-plot-three-months',\n",
    "        figure={\n",
    "            'data': [\n",
    "                {'x': aggregated_test.index[-90:], 'y': aggregated_test['sentiment_polarity'][-90:], 'name': 'Test'}\n",
    "            ],\n",
    "            'layout': {\n",
    "                'title': 'Sentiment Polarity (3 Months)',\n",
    "                'xaxis': {'title': 'Date'},\n",
    "                'yaxis': {'title': 'Sentiment Polarity'}\n",
    "            }\n",
    "        }\n",
    "    )\n",
    "])\n",
    "\n",
    "# Run the app\n",
    "if __name__ == '__main__':\n",
    "    app.run_server(debug=False)\n"
   ]
  },
  {
   "cell_type": "code",
   "execution_count": null,
   "id": "a80536d9",
   "metadata": {},
   "outputs": [],
   "source": []
  },
  {
   "cell_type": "code",
   "execution_count": null,
   "id": "d35ff32e",
   "metadata": {},
   "outputs": [],
   "source": []
  }
 ],
 "metadata": {
  "kernelspec": {
   "display_name": "Python 3 (ipykernel)",
   "language": "python",
   "name": "python3"
  },
  "language_info": {
   "codemirror_mode": {
    "name": "ipython",
    "version": 3
   },
   "file_extension": ".py",
   "mimetype": "text/x-python",
   "name": "python",
   "nbconvert_exporter": "python",
   "pygments_lexer": "ipython3",
   "version": "3.10.6"
  }
 },
 "nbformat": 4,
 "nbformat_minor": 5
}
